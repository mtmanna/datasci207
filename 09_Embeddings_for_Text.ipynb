{
  "cells": [
    {
      "cell_type": "markdown",
      "metadata": {
        "id": "view-in-github",
        "colab_type": "text"
      },
      "source": [
        "<a href=\"https://colab.research.google.com/github/mtmanna/datasci207/blob/HW9/09_Embeddings_for_Text.ipynb\" target=\"_parent\"><img src=\"https://colab.research.google.com/assets/colab-badge.svg\" alt=\"Open In Colab\"/></a>"
      ]
    },
    {
      "cell_type": "markdown",
      "metadata": {
        "id": "MKsRDH5ZUdfasdv"
      },
      "source": [
        "# Lab 9"
      ]
    },
    {
      "cell_type": "markdown",
      "metadata": {
        "id": "_uoOGyQ0edyU"
      },
      "source": [
        "### <span style=\"color:chocolate\"> Submission requirements </span>\n",
        "\n",
        "Additional points may be deducted if these requirements are not met:\n",
        "    \n",
        "* Comment your code\n",
        "* Each graph should have a title, labels for each axis, and (if needed) a legend. Each graph should be understandable on its own\n",
        "* Be sure your submitted notebook includes the output of your run (Hint: go to Kernel -> Restart Kernel and Run All Cells...)\n",
        "* Try and minimize the use of the global namespace (meaning, keep things inside functions)\n",
        "* Upload your .ipynb file to Gradescope when done\n",
        "---"
      ]
    },
    {
      "cell_type": "markdown",
      "metadata": {
        "id": "43534tdfgs-v"
      },
      "source": [
        "In this lab, we'll train models for sentiment classification and experiment with learned embeddings for text features."
      ]
    },
    {
      "cell_type": "code",
      "execution_count": 1,
      "metadata": {
        "id": "7X58hOMTUH-w"
      },
      "outputs": [],
      "source": [
        "# Import the libraries we'll use below.\n",
        "import numpy as np\n",
        "from matplotlib import pyplot as plt\n",
        "import pandas as pd\n",
        "import seaborn as sns  # for nicer plots\n",
        "sns.set(style=\"darkgrid\")  # default style\n",
        "import plotly.graph_objs as plotly  # for interactive plots\n",
        "\n",
        "import tensorflow as tf\n",
        "from tensorflow.keras.datasets import imdb"
      ]
    },
    {
      "cell_type": "markdown",
      "metadata": {
        "id": "eqppUDpmdptk"
      },
      "source": [
        "## Data for Sentiment Classification\n",
        "\n",
        "In this lab, we'll train a *sentiment* classifier for movie reviews. That is, the input is the text of a movie review and the output is the probability the input was a positive review. The target labels are binary, 0 for negative and 1 for positive.\n",
        "\n",
        "Our data includes 50,000 movie reviews on IMDB. The data comes pre-segmented into train and test splits. The [data loading function](https://www.tensorflow.org/api_docs/python/tf/keras/datasets/imdb/load_data) below also splits each input text into tokens (words) and maps the words to integer values. Each input is a sequence of integers corresponding to the words."
      ]
    },
    {
      "cell_type": "code",
      "execution_count": 2,
      "metadata": {
        "colab": {
          "base_uri": "https://localhost:8080/"
        },
        "id": "s6M-asvhQWV_",
        "outputId": "5af47dda-bd6f-42e5-d4e6-e44c454c38b8"
      },
      "outputs": [
        {
          "output_type": "stream",
          "name": "stdout",
          "text": [
            "X_train.shape: (25000,)\n",
            "Y_train.shape: (25000,)\n",
            "X_test.shape: (25000,)\n",
            "Y_test.shape: (25000,)\n",
            "First training example data: [1, 14, 22, 16, 43, 530, 973, 1622, 1385, 65, 458, 4468, 66, 3941, 4, 173, 36, 256, 5, 25, 100, 43, 838, 112, 50, 670, 22665, 9, 35, 480, 284, 5, 150, 4, 172, 112, 167, 21631, 336, 385, 39, 4, 172, 4536, 1111, 17, 546, 38, 13, 447, 4, 192, 50, 16, 6, 147, 2025, 19, 14, 22, 4, 1920, 4613, 469, 4, 22, 71, 87, 12, 16, 43, 530, 38, 76, 15, 13, 1247, 4, 22, 17, 515, 17, 12, 16, 626, 18, 19193, 5, 62, 386, 12, 8, 316, 8, 106, 5, 4, 2223, 5244, 16, 480, 66, 3785, 33, 4, 130, 12, 16, 38, 619, 5, 25, 124, 51, 36, 135, 48, 25, 1415, 33, 6, 22, 12, 215, 28, 77, 52, 5, 14, 407, 16, 82, 10311, 8, 4, 107, 117, 5952, 15, 256, 4, 31050, 7, 3766, 5, 723, 36, 71, 43, 530, 476, 26, 400, 317, 46, 7, 4, 12118, 1029, 13, 104, 88, 4, 381, 15, 297, 98, 32, 2071, 56, 26, 141, 6, 194, 7486, 18, 4, 226, 22, 21, 134, 476, 26, 480, 5, 144, 30, 5535, 18, 51, 36, 28, 224, 92, 25, 104, 4, 226, 65, 16, 38, 1334, 88, 12, 16, 283, 5, 16, 4472, 113, 103, 32, 15, 16, 5345, 19, 178, 32]\n",
            "First training example label: 1\n"
          ]
        }
      ],
      "source": [
        "(X_train, Y_train), (X_test, Y_test) = imdb.load_data(path=\"imdb.npz\",\n",
        "                                                      num_words=None,\n",
        "                                                      skip_top=0,\n",
        "                                                      maxlen=None,\n",
        "                                                      seed=113,\n",
        "                                                      start_char=1,\n",
        "                                                      oov_char=2,\n",
        "                                                      index_from=3)\n",
        "\n",
        "print(\"X_train.shape:\", X_train.shape)\n",
        "print(\"Y_train.shape:\", Y_train.shape)\n",
        "print(\"X_test.shape:\", X_test.shape)\n",
        "print(\"Y_test.shape:\", Y_test.shape)\n",
        "\n",
        "print('First training example data:', X_train[0])\n",
        "print('First training example label:', Y_train[0])"
      ]
    },
    {
      "cell_type": "markdown",
      "metadata": {
        "id": "MyIWiy-4gQK-"
      },
      "source": [
        "So our first training example is a positive review. But that sequence of integer IDs is hard to read. The data loader provides a dictionary mapping words to IDs. Let's create a reverse index.\n"
      ]
    },
    {
      "cell_type": "code",
      "execution_count": 3,
      "metadata": {
        "colab": {
          "base_uri": "https://localhost:8080/"
        },
        "id": "HQ-qATkhUj7c",
        "outputId": "d463696d-1bd4-4b28-d6da-9b030936ebf1"
      },
      "outputs": [
        {
          "output_type": "stream",
          "name": "stdout",
          "text": [
            "Largest ID: 88587\n"
          ]
        }
      ],
      "source": [
        "# The imdb dataset comes with an index mapping words to integers.\n",
        "# In the index the words are ordered by frequency they occur.\n",
        "index = imdb.get_word_index()\n",
        "\n",
        "# Because we used index_from=3 (above), setting aside ids below 3 for special\n",
        "# symbols, we need to add 3 to the index values.\n",
        "index = dict([(key, value+3) for (key, value) in index.items()])\n",
        "\n",
        "# Create a reverse index so we can lookup tokens assigned to each id.\n",
        "reverse_index = dict([(value, key) for (key, value) in index.items()])\n",
        "reverse_index[1] = '<START>'  # start of input\n",
        "reverse_index[2] = '#'        # out-of-vocabulary (OOV)\n",
        "reverse_index[3] = '<UNUSED>'\n",
        "\n",
        "max_id = max(reverse_index.keys())\n",
        "print('Largest ID:', max_id)"
      ]
    },
    {
      "cell_type": "markdown",
      "metadata": {
        "id": "h76-b07ehWNQ"
      },
      "source": [
        "Note that our index (and reverse index) have over 88,000 tokens. That's quite a large vocabulary! Let's also write a decoding function for our data."
      ]
    },
    {
      "cell_type": "code",
      "execution_count": 4,
      "metadata": {
        "colab": {
          "base_uri": "https://localhost:8080/"
        },
        "id": "UjobmouHS5Dm",
        "outputId": "b0d875f7-e49d-451a-8a36-b6bb17a85981"
      },
      "outputs": [
        {
          "output_type": "stream",
          "name": "stdout",
          "text": [
            "[1, 14, 22, 16, 43, 530, 973, 1622, 1385, 65, 458, 4468, 66, 3941, 4, 173, 36, 256, 5, 25, 100, 43, 838, 112, 50, 670, 22665, 9, 35, 480, 284, 5, 150, 4, 172, 112, 167, 21631, 336, 385, 39, 4, 172, 4536, 1111, 17, 546, 38, 13, 447, 4, 192, 50, 16, 6, 147, 2025, 19, 14, 22, 4, 1920, 4613, 469, 4, 22, 71, 87, 12, 16, 43, 530, 38, 76, 15, 13, 1247, 4, 22, 17, 515, 17, 12, 16, 626, 18, 19193, 5, 62, 386, 12, 8, 316, 8, 106, 5, 4, 2223, 5244, 16, 480, 66, 3785, 33, 4, 130, 12, 16, 38, 619, 5, 25, 124, 51, 36, 135, 48, 25, 1415, 33, 6, 22, 12, 215, 28, 77, 52, 5, 14, 407, 16, 82, 10311, 8, 4, 107, 117, 5952, 15, 256, 4, 31050, 7, 3766, 5, 723, 36, 71, 43, 530, 476, 26, 400, 317, 46, 7, 4, 12118, 1029, 13, 104, 88, 4, 381, 15, 297, 98, 32, 2071, 56, 26, 141, 6, 194, 7486, 18, 4, 226, 22, 21, 134, 476, 26, 480, 5, 144, 30, 5535, 18, 51, 36, 28, 224, 92, 25, 104, 4, 226, 65, 16, 38, 1334, 88, 12, 16, 283, 5, 16, 4472, 113, 103, 32, 15, 16, 5345, 19, 178, 32]\n",
            "<START> this film was just brilliant casting location scenery story direction everyone's really suited the part they played and you could just imagine being there robert redford's is an amazing actor and now the same being director norman's father came from the same scottish island as myself so i loved the fact there was a real connection with this film the witty remarks throughout the film were great it was just brilliant so much that i bought the film as soon as it was released for retail and would recommend it to everyone to watch and the fly fishing was amazing really cried at the end it was so sad and you know what they say if you cry at a film it must have been good and this definitely was also congratulations to the two little boy's that played the part's of norman and paul they were just brilliant children are often left out of the praising list i think because the stars that play them all grown up are such a big profile for the whole film but these children are amazing and should be praised for what they have done don't you think the whole story was so lovely because it was true and was someone's life after all that was shared with us all\n"
          ]
        }
      ],
      "source": [
        "def decode(token_ids):\n",
        "  \"\"\"Return a string with the decoded text given a list of token ids.\"\"\"\n",
        "  # Try looking up each id in the index, but return '#' (for OOV) if not found.\n",
        "  tokens = [reverse_index.get(i, \"#\") for i in token_ids]\n",
        "\n",
        "  # Connect the string tokens with a space.\n",
        "  return ' '.join(tokens)\n",
        "\n",
        "# Show the ids corresponding tokens in the first example.\n",
        "print(X_train[0])\n",
        "print(decode(X_train[0]))"
      ]
    },
    {
      "cell_type": "markdown",
      "metadata": {
        "id": "g47w5CackGBA"
      },
      "source": [
        "### Text Lengths\n",
        "As usual, let's start with some data analysis. How long are the reviews? Is there a difference in length between positive and negative reviews? A histogram will help answer these questions."
      ]
    },
    {
      "cell_type": "code",
      "execution_count": 5,
      "metadata": {
        "colab": {
          "base_uri": "https://localhost:8080/",
          "height": 307
        },
        "id": "kEOgzo8Gk3r7",
        "outputId": "9bf089ae-3d8d-44b1-90ff-1af53261efb6"
      },
      "outputs": [
        {
          "output_type": "display_data",
          "data": {
            "text/plain": [
              "<Figure size 432x288 with 1 Axes>"
            ],
            "image/png": "[encoded data removed]"
          },
          "metadata": {}
        },
        {
          "output_type": "stream",
          "name": "stdout",
          "text": [
            "Longest positive review: 2494\n",
            "Longest negative review: 1571\n"
          ]
        }
      ],
      "source": [
        "# Create a list of lengths for training examples with a positive label.\n",
        "text_lengths_pos = [len(x) for (i, x) in enumerate(X_train) if Y_train[i]]\n",
        "\n",
        "# And a list of lengths for training examples with a negative label.\n",
        "text_lengths_neg = [len(x) for (i, x) in enumerate(X_train) if not Y_train[i]]\n",
        "\n",
        "# The histogram function can take a list of inputs and corresponding labels.\n",
        "plt.hist([text_lengths_pos, text_lengths_neg], bins=20, range=(0, 1000),\n",
        "         label=['positive', 'negative'])\n",
        "plt.legend()\n",
        "plt.show()\n",
        "\n",
        "# Also check the longest reviews.\n",
        "print('Longest positive review:', max(text_lengths_pos))\n",
        "print('Longest negative review:', max(text_lengths_neg))"
      ]
    },
    {
      "cell_type": "markdown",
      "metadata": {
        "id": "c3ZE9gpkml3a"
      },
      "source": [
        "---\n",
        "### Exercise 1: Token Counts (8 points)\n",
        "For each of the given tokens, construct a table with the number of positive training examples that include that token and the number of negative training examples that include that token. For reference, here are the counts for the first two tokens:\n",
        "\n",
        "|Token|Pos Count|Neg Count|\n",
        "|-|-|-|\n",
        "|good|4767|4849|\n",
        "|bad|1491|4396|\n",
        "|amazing|868|240|\n",
        "|boring|301|1205|\n",
        "|laugh|525|685|\n",
        "|cry|231|114|"
      ]
    },
    {
      "cell_type": "code",
      "source": [
        "tokens = ['good', 'bad', 'amazing', 'boring', 'laugh', 'cry']\n",
        "# YOUR CODE HERE\n",
        "\n",
        "# Initialize all counts and indices to zero\n",
        "negative_count = 0\n",
        "positive_count = 0 \n",
        "token_count = 0\n",
        "\n",
        "\n",
        "for word in range(len(tokens)):\n",
        "\n",
        "# Check if token is in the training set item\n",
        "  for i in range(len(X_train)):\n",
        "    if index[tokens[token_count]] in X_train[i]:\n",
        "\n",
        "    # If review is positive, add a count to positive\n",
        "      if Y_train[i] == 1:\n",
        "        positive_count = positive_count + 1\n",
        "\n",
        "    # If not, add the count to negative\n",
        "      else:\n",
        "        negative_count = negative_count + 1\n",
        "  print(tokens[token_count],':\\npositive count is ', positive_count, 'and negative count is ', negative_count,'\\n')\n",
        "\n",
        "  # Reset word counts to zero and progress to the next token\n",
        "  negative_count = 0\n",
        "  positive_count = 0 \n",
        "  token_count += 1\n"
      ],
      "metadata": {
        "colab": {
          "base_uri": "https://localhost:8080/"
        },
        "id": "gzeRTMD4rFXM",
        "outputId": "a417bf43-0f8c-4794-cf35-ec06504587dd"
      },
      "execution_count": 6,
      "outputs": [
        {
          "output_type": "stream",
          "name": "stdout",
          "text": [
            "good :\n",
            "positive count is  4767 and negative count is  4849 \n",
            "\n",
            "bad :\n",
            "positive count is  1491 and negative count is  4396 \n",
            "\n",
            "amazing :\n",
            "positive count is  868 and negative count is  240 \n",
            "\n",
            "boring :\n",
            "positive count is  301 and negative count is  1205 \n",
            "\n",
            "laugh :\n",
            "positive count is  525 and negative count is  685 \n",
            "\n",
            "cry :\n",
            "positive count is  231 and negative count is  114 \n",
            "\n"
          ]
        }
      ]
    },
    {
      "cell_type": "markdown",
      "metadata": {
        "id": "4uQliKvredyX"
      },
      "source": [
        "---"
      ]
    },
    {
      "cell_type": "markdown",
      "metadata": {
        "id": "hhzt-LnQ1m8w"
      },
      "source": [
        "## Feature Representation\n",
        "Consider the difference between the pixel features we used for image classification and the text features we are now dealing with.\n",
        "\n",
        "An image had 784 pixel positions. At each position, there is a single value in [0,1] (after normalization).\n",
        "\n",
        "In contrast, a review has a variable number of ordered tokens (up to 2494 in the training examples). Each token occurs in a particular position. We can think of the token positions much like the 784 pixel positions, except that some of the trailing positions are empty, since review lengths vary.  At each token position, there is a single token, one of the 88587 entries in the vocabulary. So we can think of a review as a (2500, 90000) matrix: At each of ~2500 token positions, we have 1 of ~90000 token ids.\n",
        "\n",
        "This representation would have 2500 * 90000 = 225 million features -- quite a lot more complexity than the images, though as you'll see below, we will make some simplifying assumptions, reducing both the number of token positions and the number of vocabulary items."
      ]
    },
    {
      "cell_type": "markdown",
      "metadata": {
        "id": "Jm_F5JmWyfko"
      },
      "source": [
        "### Padding and Reduced Length\n",
        "As is clear from the length histogram, the current representation of the review text is a variable-length array. Since fixed-length arrays are easier to work with in Tensorflow, let's add special padding tokens at the end of each review until they are all the same length.\n",
        "\n",
        "We'll also use this operation to limit the number of token positions by truncating all reviews to a specified length. In the code below, as an example, we pad all training inputs to length 300."
      ]
    },
    {
      "cell_type": "code",
      "execution_count": 7,
      "metadata": {
        "colab": {
          "base_uri": "https://localhost:8080/"
        },
        "id": "a4ou8bSUCWOx",
        "outputId": "6c4afb4d-de2c-4873-eae3-08c92467eba6"
      },
      "outputs": [
        {
          "output_type": "stream",
          "name": "stdout",
          "text": [
            "Length of X_train[0]: 218\n",
            "Length of X_train_padded[0]: 300\n",
            "[    1    14    22    16    43   530   973  1622  1385    65   458  4468\n",
            "    66  3941     4   173    36   256     5    25   100    43   838   112\n",
            "    50   670 22665     9    35   480   284     5   150     4   172   112\n",
            "   167 21631   336   385    39     4   172  4536  1111    17   546    38\n",
            "    13   447     4   192    50    16     6   147  2025    19    14    22\n",
            "     4  1920  4613   469     4    22    71    87    12    16    43   530\n",
            "    38    76    15    13  1247     4    22    17   515    17    12    16\n",
            "   626    18 19193     5    62   386    12     8   316     8   106     5\n",
            "     4  2223  5244    16   480    66  3785    33     4   130    12    16\n",
            "    38   619     5    25   124    51    36   135    48    25  1415    33\n",
            "     6    22    12   215    28    77    52     5    14   407    16    82\n",
            " 10311     8     4   107   117  5952    15   256     4 31050     7  3766\n",
            "     5   723    36    71    43   530   476    26   400   317    46     7\n",
            "     4 12118  1029    13   104    88     4   381    15   297    98    32\n",
            "  2071    56    26   141     6   194  7486    18     4   226    22    21\n",
            "   134   476    26   480     5   144    30  5535    18    51    36    28\n",
            "   224    92    25   104     4   226    65    16    38  1334    88    12\n",
            "    16   283     5    16  4472   113   103    32    15    16  5345    19\n",
            "   178    32     0     0     0     0     0     0     0     0     0     0\n",
            "     0     0     0     0     0     0     0     0     0     0     0     0\n",
            "     0     0     0     0     0     0     0     0     0     0     0     0\n",
            "     0     0     0     0     0     0     0     0     0     0     0     0\n",
            "     0     0     0     0     0     0     0     0     0     0     0     0\n",
            "     0     0     0     0     0     0     0     0     0     0     0     0\n",
            "     0     0     0     0     0     0     0     0     0     0     0     0]\n"
          ]
        }
      ],
      "source": [
        "def pad_data(sequences, max_length):\n",
        "  # Keras has a convenient utility for padding a sequence.\n",
        "  # Also make sure we get a numpy array rather than an array of lists.\n",
        "  return np.array(list(\n",
        "      tf.keras.preprocessing.sequence.pad_sequences(\n",
        "          sequences, maxlen=max_length, padding='post', value=0)))\n",
        "\n",
        "# Pad and truncate to 300 tokens.\n",
        "X_train_padded = pad_data(X_train, max_length=300)\n",
        "\n",
        "# Check the padded output.\n",
        "print('Length of X_train[0]:', len(X_train[0]))\n",
        "print('Length of X_train_padded[0]:', len(X_train_padded[0]))\n",
        "print(X_train_padded[0])"
      ]
    },
    {
      "cell_type": "markdown",
      "metadata": {
        "id": "lFEmcwBjL4e_"
      },
      "source": [
        "### Reduced Vocabulary\n",
        "We also want to be able to limit the vocabulary size. Since our padding function produces fixed-length sequences in a numpy matrix, we can use clever numpy indexing to efficiently replace all token ids larger than some value with the designated out-of-vocabulary (OOV) id.\n",
        "\n",
        "In the code below, as an example, we'll keep just token ids less than 1000, replacing all others with OOV."
      ]
    },
    {
      "cell_type": "code",
      "execution_count": 8,
      "metadata": {
        "colab": {
          "base_uri": "https://localhost:8080/"
        },
        "id": "21qpyEgGNQeB",
        "outputId": "a96d9a52-90b1-4872-95c3-59821434de63"
      },
      "outputs": [
        {
          "output_type": "stream",
          "name": "stdout",
          "text": [
            "[  1  14  22  16  43 530 973   2   2  65 458   2  66   2   4 173  36 256\n",
            "   5  25 100  43 838 112  50 670   2   9  35 480 284   5 150   4 172 112\n",
            " 167   2 336 385  39   4 172   2   2  17 546  38  13 447   4 192  50  16\n",
            "   6 147   2  19  14  22   4   2   2 469   4  22  71  87  12  16  43 530\n",
            "  38  76  15  13   2   4  22  17 515  17  12  16 626  18   2   5  62 386\n",
            "  12   8 316   8 106   5   4   2   2  16 480  66   2  33   4 130  12  16\n",
            "  38 619   5  25 124  51  36 135  48  25   2  33   6  22  12 215  28  77\n",
            "  52   5  14 407  16  82   2   8   4 107 117   2  15 256   4   2   7   2\n",
            "   5 723  36  71  43 530 476  26 400 317  46   7   4   2   2  13 104  88\n",
            "   4 381  15 297  98  32   2  56  26 141   6 194   2  18   4 226  22  21\n",
            " 134 476  26 480   5 144  30   2  18  51  36  28 224  92  25 104   4 226\n",
            "  65  16  38   2  88  12  16 283   5  16   2 113 103  32  15  16   2  19\n",
            " 178  32   0   0   0   0   0   0   0   0   0   0   0   0   0   0   0   0\n",
            "   0   0   0   0   0   0   0   0   0   0   0   0   0   0   0   0   0   0\n",
            "   0   0   0   0   0   0   0   0   0   0   0   0   0   0   0   0   0   0\n",
            "   0   0   0   0   0   0   0   0   0   0   0   0   0   0   0   0   0   0\n",
            "   0   0   0   0   0   0   0   0   0   0   0   0]\n",
            "<START> this film was just brilliant casting # # story direction # really # the part they played and you could just imagine being there robert # is an amazing actor and now the same being director # father came from the same # # as myself so i loved the fact there was a real # with this film the # # throughout the film were great it was just brilliant so much that i # the film as soon as it was released for # and would recommend it to everyone to watch and the # # was amazing really # at the end it was so sad and you know what they say if you # at a film it must have been good and this definitely was also # to the two little # that played the # of # and paul they were just brilliant children are often left out of the # # i think because the stars that play them all # up are such a big # for the whole film but these children are amazing and should be # for what they have done don't you think the whole story was so # because it was true and was # life after all that was # with us all # # # # # # # # # # # # # # # # # # # # # # # # # # # # # # # # # # # # # # # # # # # # # # # # # # # # # # # # # # # # # # # # # # # # # # # # # # # # # # # # # #\n"
          ]
        }
      ],
      "source": [
        "def limit_vocab(sequences, max_token_id, oov_id=2):\n",
        "  \"\"\"Replace token ids greater than or equal to max_token_id with the oov_id.\"\"\"\n",
        "  reduced_sequences = np.copy(sequences)\n",
        "  reduced_sequences[reduced_sequences >= max_token_id] = oov_id\n",
        "  return reduced_sequences\n",
        "\n",
        "# Reduce vocabulary to 1000 tokens.\n",
        "X_train_reduced = limit_vocab(X_train_padded, max_token_id=1000)\n",
        "print(X_train_reduced[0])\n",
        "\n",
        "# Decode to see what this looks like in tokens. Note the '#' for OOVs.\n",
        "print(decode(X_train_reduced[0]))"
      ]
    },
    {
      "cell_type": "markdown",
      "metadata": {
        "id": "d24mOPC6ybC4"
      },
      "source": [
        "### One-hot Encoding\n",
        "Our current feature representations are **sparse**. That is, we only keep track of the token ids that are present in the input. A **one-hot** encoding replaces a value like 22 (corresponding to 'film') with an array with a single 1 at position 22 and zeros everywhere else. This will be very memory-inefficient, but we'll do it anyway for clarity.\n",
        "\n",
        "As discussed above, let's dramatically reduce both the number of token positions (review length) and the number of token ids (vocabulary). We'll clip each review after 20 tokens (so 2500 -> 20) and keep only the most common 1000 tokens (so 90000 -> 1000)."
      ]
    },
    {
      "cell_type": "code",
      "execution_count": 9,
      "metadata": {
        "colab": {
          "base_uri": "https://localhost:8080/"
        },
        "id": "EXzkqVL3Jufj",
        "outputId": "5eb54b4e-d744-44bd-dec3-4b47504016cc"
      },
      "outputs": [
        {
          "output_type": "stream",
          "name": "stdout",
          "text": [
            "X_train_one_hot shape: (25000, 20, 1000)\n"
          ]
        }
      ],
      "source": [
        "# Keras has a util to create one-hot encodings.\n",
        "X_train_padded = pad_data(X_train, max_length=20)\n",
        "X_train_reduced = limit_vocab(X_train_padded, max_token_id=1000)\n",
        "X_train_one_hot = tf.keras.utils.to_categorical(X_train_reduced)\n",
        "print('X_train_one_hot shape:', X_train_one_hot.shape)"
      ]
    },
    {
      "cell_type": "markdown",
      "metadata": {
        "id": "B5RvIN4w66Ej"
      },
      "source": [
        "Note the shape of the one-hot encoded features. For each of our 25000 training examples, we have a 20 x 1000 matrix. That is, for each of 20 token positions, we have a vector of 1000 elements containing a single 1 and 999 zeros.\n",
        "\n",
        "We can think of these 1000-dimensional one-hot arrays as **embeddings**. Each token in the input has a 1000-dimensional representation. But because of the one-hot setup, the distance between each pair of tokens is the same ([1,0,0,...], [0,1,0,...], etc.). By contrast, learned embeddings result in meaningful distances between pairs of tokens. We'll get to that soon."
      ]
    },
    {
      "cell_type": "markdown",
      "metadata": {
        "id": "296Cnt647b5c"
      },
      "source": [
        "## Logistic Regression with One-Hot Encodings\n",
        "Let's start with something familiar -- logistic regression. Since our feature representation is in 2 dimensions (20 x 1000), we need to flatten it to pass it to Keras (remember we did this with the pixel data too). Let's try two strategies for flattening.\n",
        "\n",
        "1. Flatten by *concatenating* (as we did with pixels), turning (20 x 1000) data into (20000,) data. The result is a separate feature for each token at each position.\n",
        "2. Flatten by *averaging* over token positions, turning (20 x 1000) data into (1000,) data. The result is an array with average token counts, ignoring position.\n",
        "\n",
        "NOTE: Our prior assignments have used the standard Stochastic Gradient Descent (SGD) optimizer to compute the gradient from an estimate of the loss (based on the current mini-batch). There are many alternative optimizers. Here we'll use the **Adam** optimizer, which sometimes gives better results. One key characteristic of Adam is that it effectively uses a different learning rate for each parameter rather than a fixed learning rate as in SGD."
      ]
    },
    {
      "cell_type": "code",
      "execution_count": 10,
      "metadata": {
        "id": "6m6eebM-0dUW"
      },
      "outputs": [],
      "source": [
        "def build_onehot_model(average_over_positions=False):\n",
        "  \"\"\"Build a tf.keras model for one-hot data.\"\"\"\n",
        "  # Clear session and remove randomness.\n",
        "  tf.keras.backend.clear_session()\n",
        "  tf.random.set_seed(0)\n",
        "\n",
        "  model = tf.keras.Sequential()\n",
        "  if average_over_positions:\n",
        "    # This layer averages over the first dimension of the input by default.\n",
        "    model.add(tf.keras.layers.GlobalAveragePooling1D())\n",
        "  else:\n",
        "    # Concatenate.\n",
        "    model.add(tf.keras.layers.Flatten())\n",
        "  model.add(tf.keras.layers.Dense(\n",
        "      units=1,                     # output dim (for binary classification)\n",
        "      activation=\"sigmoid\"         # sigmoid activation for classification\n",
        "  ))\n",
        "\n",
        "  model.compile(loss='binary_crossentropy',   # this is a classification task\n",
        "                optimizer='adam',             # fancy optimizer\n",
        "                metrics=['accuracy'])\n",
        "\n",
        "  return model"
      ]
    },
    {
      "cell_type": "markdown",
      "metadata": {
        "id": "NY3W_1-OSZ2X"
      },
      "source": [
        "Now let's try fitting the model to our training data and check performance metrics on the validation (held-out) data. But first, here's a function for plotting the learning curves given the training history object we get from Keras."
      ]
    },
    {
      "cell_type": "code",
      "execution_count": 11,
      "metadata": {
        "id": "cOVmajSuMjN6"
      },
      "outputs": [],
      "source": [
        "def plot_history(history):\n",
        "  plt.ylabel('Loss')\n",
        "  plt.xlabel('Epoch')\n",
        "  plt.xticks(range(0, len(history['loss'] + 1)))\n",
        "  plt.plot(history['loss'], label=\"training\", marker='o')\n",
        "  plt.plot(history['val_loss'], label=\"validation\", marker='o')\n",
        "  plt.legend()\n",
        "  plt.show()"
      ]
    },
    {
      "cell_type": "code",
      "execution_count": 12,
      "metadata": {
        "colab": {
          "base_uri": "https://localhost:8080/",
          "height": 467
        },
        "id": "MyE4PgX70_op",
        "outputId": "0d4e7928-6e78-425c-c748-b3c49977d4ff"
      },
      "outputs": [
        {
          "output_type": "stream",
          "name": "stdout",
          "text": [
            "Epoch 1/5\n",
            "352/352 [==============================] - 4s 8ms/step - loss: 0.6787 - accuracy: 0.6109 - val_loss: 0.6667 - val_accuracy: 0.6540\n",
            "Epoch 2/5\n",
            "352/352 [==============================] - 2s 6ms/step - loss: 0.6334 - accuracy: 0.7453 - val_loss: 0.6461 - val_accuracy: 0.6728\n",
            "Epoch 3/5\n",
            "352/352 [==============================] - 2s 6ms/step - loss: 0.5968 - accuracy: 0.7756 - val_loss: 0.6298 - val_accuracy: 0.6748\n",
            "Epoch 4/5\n",
            "352/352 [==============================] - 3s 8ms/step - loss: 0.5667 - accuracy: 0.7965 - val_loss: 0.6185 - val_accuracy: 0.6824\n",
            "Epoch 5/5\n",
            "352/352 [==============================] - 3s 8ms/step - loss: 0.5411 - accuracy: 0.8099 - val_loss: 0.6093 - val_accuracy: 0.6832\n"
          ]
        },
        {
          "output_type": "display_data",
          "data": {
            "text/plain": [
              "<Figure size 432x288 with 1 Axes>"
            ],
            "image/png": "[encoded data removed]"
          },
          "metadata": {}
        }
      ],
      "source": [
        "model = build_onehot_model()\n",
        "\n",
        "# Fit the model.\n",
        "history = model.fit(\n",
        "  x = X_train_one_hot,  # one-hot training data\n",
        "  y = Y_train,          # corresponding binary labels\n",
        "  epochs=5,             # number of passes through the training data\n",
        "  batch_size=64,        # mini-batch size\n",
        "  validation_split=0.1, # use a fraction of the examples for validation\n",
        "  verbose=1             # display some progress output during training\n",
        "  )\n",
        "\n",
        "# Convert the return value into a DataFrame so we can see the train loss \n",
        "# and binary accuracy after every epoch.\n",
        "history = pd.DataFrame(history.history)\n",
        "plot_history(history)"
      ]
    },
    {
      "cell_type": "markdown",
      "metadata": {
        "id": "QuCh9aQPv7F_"
      },
      "source": [
        "---\n",
        "### Exercise 2: Comparing logistic regrerssion models (8 points)\n",
        "Train the one-hot model using both the concatenating and the averaging strategies and compare the results. Let's call these *LR-C* (Logistic Regression Concatenating) and *LR-A* (Logistic Regression Averaging). Then answer the following questions:\n",
        "\n",
        "1. What are the final training and validation accuracies for LR-C and LR-A?\n",
        "2. How many parameters are there in each model?\n",
        "3. Would you say that either model is overfitting? Why or why not?\n",
        "4. Briefly describe how LR-C differs from LR-A. How do you explain the relationship between their respective validation accuracy results? "
      ]
    },
    {
      "cell_type": "code",
      "source": [
        "LR_C_model = build_onehot_model(average_over_positions=False)\n",
        "\n",
        "# Fit the model.\n",
        "history = LR_C_model.fit(\n",
        "  x = X_train_one_hot,  # one-hot training data\n",
        "  y = Y_train,          # corresponding binary labels\n",
        "  epochs=5,             # number of passes through the training data\n",
        "  batch_size=64,        # mini-batch size\n",
        "  validation_split=0.1, # use a fraction of the examples for validation\n",
        "  verbose=1             # display some progress output during training\n",
        "  )\n",
        "\n",
        "# Convert the return value into a DataFrame so we can see the train loss \n",
        "# and binary accuracy after every epoch.\n",
        "history = pd.DataFrame(history.history)\n",
        "plot_history(history)\n",
        "\n",
        "display(LR_C_model.layers)\n",
        "display(LR_C_model.summary())"
      ],
      "metadata": {
        "colab": {
          "base_uri": "https://localhost:8080/",
          "height": 759
        },
        "id": "CaAv7Gc04bic",
        "outputId": "4217959d-7e3f-47a5-ccde-9527d217b797"
      },
      "execution_count": 13,
      "outputs": [
        {
          "output_type": "stream",
          "name": "stdout",
          "text": [
            "Epoch 1/5\n",
            "352/352 [==============================] - 3s 7ms/step - loss: 0.6788 - accuracy: 0.6105 - val_loss: 0.6655 - val_accuracy: 0.6592\n",
            "Epoch 2/5\n",
            "352/352 [==============================] - 2s 6ms/step - loss: 0.6336 - accuracy: 0.7421 - val_loss: 0.6451 - val_accuracy: 0.6752\n",
            "Epoch 3/5\n",
            "352/352 [==============================] - 2s 6ms/step - loss: 0.5969 - accuracy: 0.7745 - val_loss: 0.6291 - val_accuracy: 0.6792\n",
            "Epoch 4/5\n",
            "352/352 [==============================] - 3s 8ms/step - loss: 0.5668 - accuracy: 0.7969 - val_loss: 0.6180 - val_accuracy: 0.6824\n",
            "Epoch 5/5\n",
            "352/352 [==============================] - 2s 6ms/step - loss: 0.5411 - accuracy: 0.8095 - val_loss: 0.6089 - val_accuracy: 0.6824\n"
          ]
        },
        {
          "output_type": "display_data",
          "data": {
            "text/plain": [
              "<Figure size 432x288 with 1 Axes>"
            ],
            "image/png": "[encoded data removed]"
          },
          "metadata": {}
        },
        {
          "output_type": "display_data",
          "data": {
            "text/plain": [
              "[<keras.layers.reshaping.flatten.Flatten at 0x7fd6b8ad8190>,\n",
              " <keras.layers.core.dense.Dense at 0x7fd6b2241400>]"
            ]
          },
          "metadata": {}
        },
        {
          "output_type": "stream",
          "name": "stdout",
          "text": [
            "Model: \"sequential\"\n",
            "_________________________________________________________________\n",
            " Layer (type)                Output Shape              Param #   \n",
            "=================================================================\n",
            " flatten (Flatten)           (None, 20000)             0         \n",
            "                                                                 \n",
            " dense (Dense)               (None, 1)                 20001     \n",
            "                                                                 \n",
            "=================================================================\n",
            "Total params: 20,001\n",
            "Trainable params: 20,001\n",
            "Non-trainable params: 0\n",
            "_________________________________________________________________\n"
          ]
        },
        {
          "output_type": "display_data",
          "data": {
            "text/plain": [
              "None"
            ]
          },
          "metadata": {}
        }
      ]
    },
    {
      "cell_type": "code",
      "source": [
        "LR_A_model = build_onehot_model(average_over_positions=True)\n",
        "\n",
        "# Fit the model.\n",
        "history = LR_A_model.fit(\n",
        "  x = X_train_one_hot,  # one-hot training data\n",
        "  y = Y_train,          # corresponding binary labels\n",
        "  epochs=5,             # number of passes through the training data\n",
        "  batch_size=64,        # mini-batch size\n",
        "  validation_split=0.1, # use a fraction of the examples for validation\n",
        "  verbose=1             # display some progress output during training\n",
        "  )\n",
        "\n",
        "# Convert the return value into a DataFrame so we can see the train loss \n",
        "# and binary accuracy after every epoch.\n",
        "history = pd.DataFrame(history.history)\n",
        "plot_history(history)\n",
        "\n",
        "display(LR_A_model.layers)\n",
        "display(LR_A_model.summary())"
      ],
      "metadata": {
        "colab": {
          "base_uri": "https://localhost:8080/",
          "height": 777
        },
        "id": "Nkmzon9j4blP",
        "outputId": "589bb901-9aef-4fbe-9621-6436370b932b"
      },
      "execution_count": 14,
      "outputs": [
        {
          "output_type": "stream",
          "name": "stdout",
          "text": [
            "Epoch 1/5\n",
            "352/352 [==============================] - 3s 6ms/step - loss: 0.6909 - accuracy: 0.6006 - val_loss: 0.6887 - val_accuracy: 0.6340\n",
            "Epoch 2/5\n",
            "352/352 [==============================] - 2s 5ms/step - loss: 0.6857 - accuracy: 0.6732 - val_loss: 0.6841 - val_accuracy: 0.6680\n",
            "Epoch 3/5\n",
            "352/352 [==============================] - 2s 7ms/step - loss: 0.6808 - accuracy: 0.6741 - val_loss: 0.6795 - val_accuracy: 0.6816\n",
            "Epoch 4/5\n",
            "352/352 [==============================] - 2s 5ms/step - loss: 0.6761 - accuracy: 0.6991 - val_loss: 0.6752 - val_accuracy: 0.6908\n",
            "Epoch 5/5\n",
            "352/352 [==============================] - 2s 5ms/step - loss: 0.6716 - accuracy: 0.6994 - val_loss: 0.6712 - val_accuracy: 0.6932\n"
          ]
        },
        {
          "output_type": "display_data",
          "data": {
            "text/plain": [
              "<Figure size 432x288 with 1 Axes>"
            ],
            "image/png": "[encoded data removed]"
          },
          "metadata": {}
        },
        {
          "output_type": "display_data",
          "data": {
            "text/plain": [
              "[<keras.layers.pooling.global_average_pooling1d.GlobalAveragePooling1D at 0x7fd6b8482640>,\n",
              " <keras.layers.core.dense.Dense at 0x7fd6b8297970>]"
            ]
          },
          "metadata": {}
        },
        {
          "output_type": "stream",
          "name": "stdout",
          "text": [
            "Model: \"sequential\"\n",
            "_________________________________________________________________\n",
            " Layer (type)                Output Shape              Param #   \n",
            "=================================================================\n",
            " global_average_pooling1d (G  (None, 1000)             0         \n",
            " lobalAveragePooling1D)                                          \n",
            "                                                                 \n",
            " dense (Dense)               (None, 1)                 1001      \n",
            "                                                                 \n",
            "=================================================================\n",
            "Total params: 1,001\n",
            "Trainable params: 1,001\n",
            "Non-trainable params: 0\n",
            "_________________________________________________________________\n"
          ]
        },
        {
          "output_type": "display_data",
          "data": {
            "text/plain": [
              "None"
            ]
          },
          "metadata": {}
        }
      ]
    },
    {
      "cell_type": "markdown",
      "metadata": {
        "id": "CEAN5BejHc__"
      },
      "source": [
        "*Written answers:*\n",
        "\n",
        "1. What are the final training and validation accuracies for LR-C and LR-A?\n",
        "\n",
        "  The final training accuracies for LR-A and LR-C, respectively, are: 0.6967 and 0.8098.\n",
        "\n",
        "  The final validation accuracies for LR-A and LR-C, respectively, are: 0.6880 and 0.6804.\n",
        "\n",
        "\n",
        "2. How many parameters are there in each model?\n",
        "\n",
        "  There are 20,001 parameters in LR-C and 10,001 parameters in LR-A.\n",
        "\n",
        "\n",
        "3. Would you say that either model is overfitting? Why or why not?\n",
        "\n",
        "  I believe the LR-C model is overfitting. While the training accuracy is going up quite nicely, there is no improvement in the validation accuracy, and the validation accuracy is significantly lower than that of the training accuracy indicating a poor performance relative to when using training data. This is somewhat to be expected due to the number of parameters of this model.\n",
        "\n",
        "  I believe LR-A is not overfitting yet. Validation and training accuracy is still improving, as is the loss. The validation and training accuracies are near each other in value as well. \n",
        "\n",
        "\n",
        "4. Briefly describe how LR-C differs from LR-A. How do you explain the relationship between their respective validation accuracy results?\n",
        "\n",
        "  As discussed above, LR-C has double the paramaters of LR-A because LR-C is concatenating and LR-A is averaging. I believe this directly impacts the validation accuracy, as it is easier to overfit when there are more parameters. \n"
      ]
    },
    {
      "cell_type": "markdown",
      "metadata": {
        "id": "cyLeS6s3edya"
      },
      "source": [
        "---"
      ]
    },
    {
      "cell_type": "markdown",
      "metadata": {
        "id": "sJIBRqK7lsjG"
      },
      "source": [
        "## Logistic Regression with Embeddings\n",
        "Next, let's train model that replaces one-hot representations of each token with learned embeddings.\n",
        "\n",
        "The code below uses a Keras Embedding layer, which expects to receive a sparse (rather than one-hot) representation. That is, it expects a (padded) sequence of token ids; for each id, it looks up the corresponding embedding vector."
      ]
    },
    {
      "cell_type": "code",
      "execution_count": 15,
      "metadata": {
        "id": "ho6uOeCaBs2e"
      },
      "outputs": [],
      "source": [
        "def build_embeddings_model(average_over_positions=False,\n",
        "                           vocab_size=1000,\n",
        "                           sequence_length=20,\n",
        "                           embedding_dim=2):\n",
        "  \"\"\"Build a tf.keras model using embeddings.\"\"\"\n",
        "  # Clear session and remove randomness.\n",
        "  tf.keras.backend.clear_session()\n",
        "  tf.random.set_seed(0)\n",
        "\n",
        "  model = tf.keras.Sequential()\n",
        "  model.add(tf.keras.layers.Embedding(\n",
        "      input_dim=vocab_size,\n",
        "      output_dim=embedding_dim,\n",
        "      input_length=sequence_length)\n",
        "  )\n",
        "\n",
        "  if average_over_positions:\n",
        "    # This layer averages over the first dimension of the input by default.\n",
        "    model.add(tf.keras.layers.GlobalAveragePooling1D())\n",
        "  else:\n",
        "    # Concatenate.\n",
        "    model.add(tf.keras.layers.Flatten())\n",
        "  model.add(tf.keras.layers.Dense(\n",
        "      units=1,                     # output dim (for binary classification)\n",
        "      activation='sigmoid'         # apply the sigmoid function!\n",
        "  ))\n",
        "\n",
        "  model.compile(loss='binary_crossentropy', \n",
        "                optimizer='adam',\n",
        "                metrics=['accuracy'])\n",
        "\n",
        "  return model"
      ]
    },
    {
      "cell_type": "markdown",
      "metadata": {
        "id": "eyhoEjAiFSNB"
      },
      "source": [
        "Try training the model as before. We'll use the averaging strategy rather than the concatenating strategy for dealing with the token sequence. That is, we'll look up embedding vectors for each token. Then we'll average them to produce a single vector. Then we'll traing a logistic regression with that vector as input to predict the binary label."
      ]
    },
    {
      "cell_type": "code",
      "execution_count": 16,
      "metadata": {
        "colab": {
          "base_uri": "https://localhost:8080/",
          "height": 832
        },
        "id": "uYUE5UwkxoU8",
        "outputId": "8cf3adf8-bbf1-41ad-8395-824e0cda6c53"
      },
      "outputs": [
        {
          "output_type": "stream",
          "name": "stdout",
          "text": [
            "Epoch 1/5\n",
            "352/352 [==============================] - 2s 3ms/step - loss: 0.6872 - accuracy: 0.6338 - val_loss: 0.6798 - val_accuracy: 0.6696\n",
            "Epoch 2/5\n",
            "352/352 [==============================] - 1s 2ms/step - loss: 0.6671 - accuracy: 0.6884 - val_loss: 0.6570 - val_accuracy: 0.6944\n",
            "Epoch 3/5\n",
            "352/352 [==============================] - 1s 2ms/step - loss: 0.6402 - accuracy: 0.7023 - val_loss: 0.6313 - val_accuracy: 0.7020\n",
            "Epoch 4/5\n",
            "352/352 [==============================] - 1s 2ms/step - loss: 0.6134 - accuracy: 0.7149 - val_loss: 0.6090 - val_accuracy: 0.7068\n",
            "Epoch 5/5\n",
            "352/352 [==============================] - 1s 3ms/step - loss: 0.5899 - accuracy: 0.7206 - val_loss: 0.5909 - val_accuracy: 0.7124\n"
          ]
        },
        {
          "output_type": "display_data",
          "data": {
            "text/plain": [
              "<Figure size 432x288 with 1 Axes>"
            ],
            "image/png": "[encoded data removed]"
          },
          "metadata": {}
        },
        {
          "output_type": "display_data",
          "data": {
            "text/plain": [
              "[<keras.layers.core.embedding.Embedding at 0x7fd6b7033130>,\n",
              " <keras.layers.pooling.global_average_pooling1d.GlobalAveragePooling1D at 0x7fd6b744bb20>,\n",
              " <keras.layers.core.dense.Dense at 0x7fd6b8abd400>]"
            ]
          },
          "metadata": {}
        },
        {
          "output_type": "stream",
          "name": "stdout",
          "text": [
            "Model: \"sequential\"\n",
            "_________________________________________________________________\n",
            " Layer (type)                Output Shape              Param #   \n",
            "=================================================================\n",
            " embedding (Embedding)       (None, 20, 2)             2000      \n",
            "                                                                 \n",
            " global_average_pooling1d (G  (None, 2)                0         \n",
            " lobalAveragePooling1D)                                          \n",
            "                                                                 \n",
            " dense (Dense)               (None, 1)                 3         \n",
            "                                                                 \n",
            "=================================================================\n",
            "Total params: 2,003\n",
            "Trainable params: 2,003\n",
            "Non-trainable params: 0\n",
            "_________________________________________________________________\n"
          ]
        },
        {
          "output_type": "display_data",
          "data": {
            "text/plain": [
              "None"
            ]
          },
          "metadata": {}
        }
      ],
      "source": [
        "model = build_embeddings_model(average_over_positions=True,\n",
        "                               vocab_size=1000,\n",
        "                               sequence_length=20,\n",
        "                               embedding_dim=2)\n",
        "history = model.fit(\n",
        "  x = X_train_reduced,  # our sparse padded training data\n",
        "  y = Y_train,          # corresponding binary labels\n",
        "  epochs=5,             # number of passes through the training data\n",
        "  batch_size=64,        # mini-batch size\n",
        "  validation_split=0.1, # use a fraction of the examples for validation\n",
        "  verbose=1             # display some progress output during training\n",
        "  )\n",
        "\n",
        "history = pd.DataFrame(history.history)\n",
        "plot_history(history)\n",
        "\n",
        "display(model.layers)\n",
        "display(model.summary())"
      ]
    },
    {
      "cell_type": "markdown",
      "metadata": {
        "id": "V3k__61hFnag"
      },
      "source": [
        "---\n",
        "### Exercise 3: Experiments with embeddings (8 points)\n",
        "Train 6 models with embedding sizes in [2,4,8,16,32,64], keeping other settings fixed. Use the averaging strategy rather than the concatenating strategy.\n",
        "\n",
        "1. Construct a table with the training and validation accuracies of each model (after 5 training epochs).\n",
        "2. Compute the number of parameters in each model.\n",
        "3. Do learned embeddings appear to provide improved performance over the one-hot encoding? Why?"
      ]
    },
    {
      "cell_type": "markdown",
      "source": [
        "\n",
        "|Model|Training Accuracy|Validation Accuracy|\n",
        "|-|-|-|\n",
        "|Model 1|0.7192|0.7100|\n",
        "|Model 2|0.7301|0.7164|\n",
        "|Model 3|0.7402|0.7232|\n",
        "|Model 4|0.7479|0.7280|\n",
        "|Model 5|0.7517|0.7308|\n",
        "|Model 6|0.7551|0.7276|"
      ],
      "metadata": {
        "id": "wAWyzoNIBPAI"
      }
    },
    {
      "cell_type": "markdown",
      "metadata": {
        "id": "O7t46ZdX2ofd"
      },
      "source": [
        "*Written answers:*\n",
        "\n",
        "1. (see table above)\n",
        "\n",
        "2. Number of Parameters\n",
        "\n",
        "  Model 1, Embedding Size 2: 2,003\n",
        "\n",
        "  Model 2, Embedding Size 4: 4,005\n",
        "\n",
        "  Model 3, Embedding Size 8: 8,009\n",
        "\n",
        "  Model 4, Embedding Size 16: 16,017\n",
        "\n",
        "  Model 5, Embedding Size 32: 32,033\n",
        "\n",
        "  Model 6, Embedding Size 64: 64,065\n",
        "\n",
        "3. Yes, the learned embeddings appear to provide improved performance over the one-hot encoding. This is because one-hot encodings cannot distinguish similarities or relationships between words and learned embeddings can to a degree.\n"
      ]
    },
    {
      "cell_type": "markdown",
      "metadata": {
        "id": "0nVVE9aFedyb"
      },
      "source": [
        "---"
      ]
    },
    {
      "cell_type": "markdown",
      "metadata": {
        "id": "i2dWOuxqKHA6"
      },
      "source": [
        "## Inspecting Learned Embeddings\n",
        "Let's retrieve the learned embedding parameters from the trained model and plot the token embeddings.\n",
        "\n",
        "The model layers in a Keras Sequential model are stored as a list and the embeddings are the first layer. We can use the get_weights() function to get a numpy array with the parameters."
      ]
    },
    {
      "cell_type": "code",
      "execution_count": 17,
      "metadata": {
        "colab": {
          "base_uri": "https://localhost:8080/",
          "height": 90
        },
        "id": "bfsbGSwkaFjo",
        "outputId": "8cd28c0f-bd36-4c3a-90d6-a238589c0230"
      },
      "outputs": [
        {
          "output_type": "display_data",
          "data": {
            "text/plain": [
              "[<keras.layers.core.embedding.Embedding at 0x7fd6b7033130>,\n",
              " <keras.layers.pooling.global_average_pooling1d.GlobalAveragePooling1D at 0x7fd6b744bb20>,\n",
              " <keras.layers.core.dense.Dense at 0x7fd6b8abd400>]"
            ]
          },
          "metadata": {}
        },
        {
          "output_type": "display_data",
          "data": {
            "text/plain": [
              "(1000, 2)"
            ]
          },
          "metadata": {}
        }
      ],
      "source": [
        "# Display the model layers.\n",
        "display(model.layers)\n",
        "\n",
        "# Retrieve the embeddings layer, which itself is wrapped in a list.\n",
        "embeddings = model.layers[0].get_weights()[0]\n",
        "display(embeddings.shape)"
      ]
    },
    {
      "cell_type": "markdown",
      "metadata": {
        "id": "apPWscNwcXTE"
      },
      "source": [
        "Now we'll use a fancy plotting tool called *plotly* to show the embeddings with hovertext so you can move your mouse over the points to see the corresponding tokens."
      ]
    },
    {
      "cell_type": "code",
      "execution_count": 18,
      "metadata": {
        "colab": {
          "base_uri": "https://localhost:8080/",
          "height": 542
        },
        "id": "5RZMTrA0KttL",
        "outputId": "418565b9-e6d1-4d37-b796-b9294187458e"
      },
      "outputs": [
        {
          "output_type": "display_data",
          "data": {
            "text/html": [
              "<html>\n",
              "<head><meta charset=\"utf-8\" /></head>\n",
              "<body>\n",
              "    <div>            <script src=\"https://cdnjs.cloudflare.com/ajax/libs/mathjax/2.7.5/MathJax.js?config=TeX-AMS-MML_SVG\"></script><script type=\"text/javascript\">if (window.MathJax) {MathJax.Hub.Config({SVG: {font: \"STIX-Web\"}});}</script>                <script type=\"text/javascript\">window.PlotlyConfig = {MathJaxConfig: 'local'};</script>\n",
              "        <script src=\"https://cdn.plot.ly/plotly-2.8.3.min.js\"></script>                <div id=\"27f0d731-c0ec-4a2d-8188-f40e01b93b94\" class=\"plotly-graph-div\" style=\"height:525px; width:100%;\"></div>            <script type=\"text/javascript\">                                    window.PLOTLYENV=window.PLOTLYENV || {};                                    if (document.getElementById(\"27f0d731-c0ec-4a2d-8188-f40e01b93b94\")) {                    Plotly.newPlot(                        \"27f0d731-c0ec-4a2d-8188-f40e01b93b94\",                        [{\"hoverinfo\":\"text\",\"mode\":\"markers\",\"text\":[\"game\",\"past\",\"able\",\"b\",\"days\",\"turns\",\"child\",\"they're\",\"hand\",\"flick\",\"enjoyed\",\"act\",\"genre\",\"town\",\"favorite\",\"soon\",\"kill\",\"starts\",\"sometimes\",\"car\",\"gave\",\"run\",\"late\",\"eyes\",\"actress\",\"etc\",\"directed\",\"horrible\",\"won't\",\"viewer\",\"brilliant\",\"parts\",\"self\",\"themselves\",\"hour\",\"expect\",\"thinking\",\"stories\",\"stuff\",\"girls\",\"obviously\",\"blood\",\"decent\",\"city\",\"voice\",\"highly\",\"myself\",\"feeling\",\"fight\",\"except\",\"slow\",\"matter\",\"type\",\"anyway\",\"kid\",\"roles\",\"killed\",\"heard\",\"god\",\"age\",\"says\",\"moment\",\"took\",\"leave\",\"writer\",\"strong\",\"cannot\",\"violence\",\"police\",\"hit\",\"stop\",\"happens\",\"particularly\",\"known\",\"involved\",\"happened\",\"extremely\",\"daughter\",\"obvious\",\"told\",\"chance\",\"living\",\"coming\",\"lack\",\"alone\",\"experience\",\"wouldn't\",\"including\",\"murder\",\"attempt\",\"s\",\"please\",\"james\",\"happen\",\"wonder\",\"crap\",\"ago\",\"brother\",\"film's\",\"gore\",\"none\",\"complete\",\"interest\",\"score\",\"group\",\"cut\",\"simple\",\"save\",\"ok\",\"hell\",\"looked\",\"career\",\"number\",\"song\",\"possible\",\"seriously\",\"annoying\",\"shown\",\"exactly\",\"sad\",\"running\",\"musical\",\"serious\",\"taken\",\"yourself\",\"whose\",\"released\",\"cinematography\",\"david\",\"scary\",\"ends\",\"english\",\"hero\",\"usually\",\"hours\",\"reality\",\"opening\",\"i'll\",\"across\",\"today\",\"jokes\",\"light\",\"hilarious\",\"somewhat\",\"usual\",\"started\",\"cool\",\"ridiculous\",\"body\",\"relationship\",\"view\",\"level\",\"opinion\",\"change\",\"happy\",\"middle\",\"taking\",\"wish\",\"husband\",\"finds\",\"saying\",\"order\",\"talking\",\"ones\",\"documentary\",\"shots\",\"huge\",\"novel\",\"female\",\"mostly\",\"robert\",\"power\",\"episodes\",\"room\",\"important\",\"rating\",\"talent\",\"five\",\"major\",\"turned\",\"strange\",\"word\",\"modern\",\"call\",\"apparently\",\"disappointed\",\"single\",\"events\",\"due\",\"four\",\"songs\",\"basically\",\"attention\",\"7\",\"knows\",\"clearly\",\"supporting\",\"knew\",\"british\",\"television\",\"comic\",\"non\",\"fast\",\"earth\",\"country\",\"future\",\"cheap\",\"class\",\"thriller\",\"8\",\"silly\",\"king\",\"problems\",\"aren't\",\"easily\",\"words\",\"tells\",\"miss\",\"jack\",\"local\",\"sequence\",\"bring\",\"entertainment\",\"paul\",\"beyond\",\"upon\",\"whether\",\"predictable\",\"moving\",\"similar\",\"straight\",\"romantic\",\"sets\",\"review\",\"falls\",\"oscar\",\"mystery\",\"enjoyable\",\"needs\",\"appears\",\"talk\",\"rock\",\"george\",\"giving\",\"eye\",\"richard\",\"within\",\"ten\",\"animation\",\"message\",\"theater\",\"near\",\"above\",\"dull\",\"nearly\",\"sequel\",\"theme\",\"points\",\"'\",\"stand\",\"mention\",\"lady\",\"bunch\",\"add\",\"feels\",\"herself\",\"release\",\"red\",\"team\",\"storyline\",\"surprised\",\"ways\",\"using\",\"named\",\"haven't\",\"lots\",\"easy\",\"fantastic\",\"begins\",\"actual\",\"working\",\"effort\",\"york\",\"die\",\"hate\",\"french\",\"minute\",\"tale\",\"clear\",\"stay\",\"9\",\"elements\",\"feature\",\"among\",\"follow\",\"comments\",\"re\",\"viewers\",\"avoid\",\"sister\",\"showing\",\"typical\",\"editing\",\"what's\",\"famous\",\"tried\",\"sorry\",\"dialog\",\"check\",\"fall\",\"period\",\"season\",\"form\",\"certain\",\"filmed\",\"weak\",\"soundtrack\",\"means\",\"buy\",\"material\",\"somehow\",\"realistic\",\"figure\",\"crime\",\"doubt\",\"gone\",\"peter\",\"tom\",\"kept\",\"viewing\",\"t\",\"general\",\"leads\",\"greatest\",\"space\",\"lame\",\"suspense\",\"dance\",\"imagine\",\"brought\",\"third\",\"atmosphere\",\"hear\",\"particular\",\"sequences\",\"whatever\",\"parents\",\"move\",\"lee\",\"indeed\",\"learn\",\"rent\",\"de\",\"eventually\",\"note\",\"deal\",\"average\",\"reviews\",\"wait\",\"forget\",\"japanese\",\"sexual\",\"poorly\",\"premise\",\"okay\",\"zombie\",\"surprise\",\"believable\",\"stage\",\"possibly\",\"sit\",\"who's\",\"decided\",\"expected\",\"you've\",\"subject\",\"nature\",\"became\",\"difficult\",\"free\",\"killing\",\"screenplay\",\"truth\",\"romance\",\"dr\",\"nor\",\"reading\",\"needed\",\"question\",\"leaves\",\"street\",\"20\",\"meets\",\"hot\",\"unless\",\"begin\",\"baby\",\"superb\",\"credits\",\"imdb\",\"otherwise\",\"write\",\"shame\",\"let's\",\"situation\",\"dramatic\",\"memorable\",\"directors\",\"earlier\",\"meet\",\"disney\",\"open\",\"dog\",\"badly\",\"joe\",\"male\",\"weird\",\"acted\",\"forced\",\"laughs\",\"sci\",\"emotional\",\"older\",\"realize\",\"fi\",\"dream\",\"society\",\"writers\",\"interested\",\"footage\",\"forward\",\"comment\",\"crazy\",\"deep\",\"sounds\",\"plus\",\"beauty\",\"whom\",\"america\",\"fantasy\",\"directing\",\"keeps\",\"ask\",\"development\",\"features\",\"air\",\"quickly\",\"mess\",\"creepy\",\"towards\",\"perfectly\",\"mark\",\"worked\",\"box\",\"cheesy\",\"unique\",\"setting\",\"hands\",\"plenty\",\"result\",\"previous\",\"brings\",\"effect\",\"e\",\"total\",\"personal\",\"incredibly\",\"rate\",\"fire\",\"monster\",\"business\",\"leading\",\"apart\",\"casting\",\"admit\",\"joke\",\"powerful\",\"appear\",\"background\",\"telling\",\"girlfriend\",\"meant\",\"christmas\",\"hardly\",\"present\",\"battle\",\"potential\",\"create\",\"bill\",\"break\",\"pay\",\"masterpiece\",\"gay\",\"political\",\"return\",\"dumb\",\"fails\",\"fighting\",\"various\",\"era\"],\"textposition\":\"bottom left\",\"x\":[0.2564661502838135,0.10458271205425262,-0.007527148351073265,-0.04004853218793869,0.21048665046691895,-0.05038967356085777,0.15232054889202118,-0.16073691844940186,-0.31251072883605957,-0.1670028567314148,0.5211291909217834,-0.1337953805923462,0.36269161105155945,0.03856130689382553,0.7318919897079468,0.2744293212890625,-0.3318966329097748,-0.05330994352698326,0.24705377221107483,-0.2687166631221771,0.041054196655750275,-0.2543370723724365,0.10071083903312683,0.13053078949451447,0.046877264976501465,-0.22083081305027008,-0.08255035430192947,-0.7975134253501892,0.12572573125362396,0.010298493318259716,0.6336594223976135,0.14984700083732605,-0.28199949860572815,-0.06735630333423615,-0.17716634273529053,-0.19916576147079468,-0.1565113514661789,0.288390189409256,0.12585419416427612,-0.03904905542731285,-0.22797860205173492,0.04859118163585663,-0.4925094544887543,0.1303977370262146,0.1936637908220291,1.2523839473724365,0.009981299750506878,0.09175679832696915,-0.025788260623812675,-0.41119512915611267,-0.0004915622994303703,0.1051315888762474,-0.011903106234967709,-0.05148307979106903,-0.2407298982143402,0.12552158534526825,-0.2260361760854721,0.1465248018503189,-0.31911811232566833,0.2436690777540207,-0.03822269290685654,0.013230942189693451,-0.14902055263519287,-0.12431956082582474,-0.23312756419181824,0.3269161880016327,-0.033062856644392014,-0.10204340517520905,0.1095929890871048,0.45572564005851746,-0.1851102113723755,-0.416585773229599,-0.03365839272737503,0.12501370906829834,-0.1958896964788437,-0.09069100767374039,-0.08100279420614243,0.054328855127096176,-0.3369123637676239,-0.039329614490270615,0.6392481327056885,-0.08887504786252975,0.11134577542543411,-0.5691089630126953,0.04985892400145531,0.3336516320705414,-0.6574913859367371,0.3762342631816864,0.05745716765522957,-0.4911467730998993,-0.07019239664077759,-0.17409220337867737,0.28971388936042786,0.07191124558448792,-0.19299964606761932,-0.8514517545700073,0.13579121232032776,-0.04763715714216232,-0.14402157068252563,-0.5690534114837646,-0.3792724907398224,-0.294323593378067,-0.1279178410768509,0.21613621711730957,0.004688396584242582,0.10021848231554031,0.22348541021347046,-0.9555919170379639,-0.2831805944442749,-0.2768566906452179,-0.438742071390152,-0.2171252816915512,0.17946498095989227,0.01551229227334261,-0.056766171008348465,-0.3128073811531067,-0.43305814266204834,0.052476223558187485,0.16275228559970856,-0.25357088446617126,-0.08189671486616135,0.1831970512866974,0.0013734177919104695,-0.04605717211961746,-0.4855932295322418,0.007425301242619753,0.15883006155490875,0.09891266375780106,-0.0428943932056427,-0.2580672800540924,0.04259416088461876,0.3251979649066925,0.19190992414951324,-0.05683248117566109,-0.2984579801559448,0.27722254395484924,0.11122283339500427,-0.10259067267179489,0.04836348071694374,0.7482450008392334,-0.17970174551010132,0.3335407078266144,0.17917445302009583,0.006288264878094196,0.02745032124221325,-0.2143665850162506,0.24980206787586212,-0.49336856603622437,-0.0953819528222084,0.2509988248348236,0.12327951937913895,-0.142597958445549,-0.11134746670722961,0.25284627079963684,0.3422798812389374,-0.015085171908140182,-0.003997666761279106,0.17678067088127136,-0.07275505363941193,0.10469457507133484,-0.3002884089946747,0.02063501998782158,0.19183844327926636,0.021374711766839027,0.13772885501384735,-0.20335793495178223,-0.29590386152267456,-0.0013495894381776452,-0.11610762774944305,-0.08006777614355087,0.1020180955529213,-0.07562749832868576,0.34424954652786255,-0.09447161853313446,0.18958312273025513,-0.24365545809268951,-0.22128897905349731,-0.16728200018405914,-0.15447784960269928,-0.3002050518989563,-0.0026489326264709234,-0.20816634595394135,0.2830990254878998,-0.174396812915802,-0.16911637783050537,-0.03803584352135658,-0.1264352649450302,0.029059551656246185,-0.1384955644607544,-0.05045434832572937,-0.013199643231928349,-0.11763270199298859,0.281985342502594,1.1936976909637451,0.12271595001220703,-0.23740680515766144,0.09476917237043381,-0.23138123750686646,-0.0822143480181694,0.25684425234794617,0.13479413092136383,-0.08660204708576202,-0.23009324073791504,-0.049558550119400024,0.14117412269115448,0.3813047707080841,-0.5990204811096191,-0.031425513327121735,0.282174676656723,1.2053956985473633,-0.24934923648834229,-0.07451232522726059,-0.03693687915802002,-0.1090836301445961,0.22911673784255981,0.08545256406068802,0.21971678733825684,0.3864021301269531,0.15341593325138092,-0.19614027440547943,0.24235782027244568,0.31497275829315186,0.13260418176651,0.14469514787197113,0.017490385100245476,0.041482023894786835,0.16572882235050201,-0.40255284309387207,0.501535952091217,0.035436324775218964,-0.08610107004642487,0.40264153480529785,0.054986897855997086,-0.16266700625419617,-0.2335062175989151,0.46038246154785156,0.07084598392248154,0.6715452075004578,-0.11612170189619064,-0.12219485640525818,0.005614752881228924,0.17802903056144714,-0.0653567984700203,0.00757898623123765,0.03342798724770546,0.08898486942052841,0.18777544796466827,0.040112387388944626,0.05996619164943695,0.39424312114715576,-0.2549944221973419,-0.05769737437367439,0.030098101124167442,-0.6827273368835449,0.16524335741996765,-0.13341547548770905,-0.050950583070516586,-0.1528521478176117,-0.10356415808200836,0.1434953510761261,0.07611987739801407,0.24541209638118744,0.038187332451343536,0.01761694811284542,-0.06541618704795837,0.2510368824005127,0.32133328914642334,-0.12873917818069458,0.11764552444219589,-0.06304603070020676,0.046437762677669525,0.12086817622184753,-0.19255264103412628,-0.3088046610355377,0.3959689140319824,0.014604109339416027,0.08228975534439087,0.5707065463066101,0.07913250476121902,-0.295749694108963,0.04409859701991081,-0.4478553235530853,0.01601005159318447,-0.24627240002155304,-0.18359753489494324,0.008514239452779293,-0.24027833342552185,0.3690972626209259,-0.26805710792541504,-0.5531507134437561,0.99595046043396,0.22659680247306824,-0.12299101799726486,0.1508902907371521,0.0284023005515337,0.04665284603834152,0.006888126488775015,0.08810136467218399,-1.2847058773040771,-0.12789691984653473,0.08717358112335205,0.15852749347686768,-0.12449875473976135,-0.022233322262763977,0.26037150621414185,-0.033468227833509445,-0.6455145478248596,-0.1283797025680542,0.3361867368221283,0.10239209979772568,0.15173634886741638,0.28565359115600586,-0.028295908123254776,0.17012089490890503,-0.04192979261279106,-0.4169670641422272,0.3550509512424469,0.0815255269408226,0.26855701208114624,-0.2477637380361557,0.0935014858841896,0.37971240282058716,-0.08605063706636429,0.11791865527629852,0.09345168620347977,0.0502774603664875,0.09264452755451202,0.2046554982662201,-0.02623777836561203,0.5002923011779785,-0.4071642756462097,-0.1228359192609787,0.12512798607349396,0.5344660878181458,-0.0948396623134613,-0.6964043974876404,0.03585677221417427,0.24392376840114594,0.09045340120792389,0.223386749625206,0.06308208405971527,0.3817177414894104,0.12913039326667786,0.11418787389993668,0.22829222679138184,-0.18860961496829987,0.019979191944003105,-0.13777200877666473,-0.45297834277153015,-0.02687438391149044,0.05274359509348869,-0.3838009238243103,0.055890221148729324,0.15899725258350372,-0.039967022836208344,0.08366628736257553,-0.07770563662052155,-0.10961036384105682,0.0015613939613103867,0.06121344864368439,0.22522583603858948,-0.07779087126255035,-0.5847731232643127,-0.2124435305595398,-0.4200424253940582,-0.19288967549800873,0.08203147351741791,0.24991750717163086,0.031069440767169,-0.005151602905243635,-0.28978073596954346,0.07421615719795227,-0.19874921441078186,-0.048341087996959686,0.014762037433683872,-0.10870165377855301,0.40038976073265076,0.06886426359415054,0.3239038586616516,-0.3831637501716614,-0.2930525541305542,0.024821318686008453,-0.015455354936420918,0.35479381680488586,-0.09908312559127808,-0.0853440910577774,0.14079605042934418,0.11676991730928421,0.034827541559934616,0.04172049090266228,-0.012185713276267052,-0.12474936246871948,0.046513624489307404,-0.2552601993083954,-0.9595158696174622,-0.09904490411281586,-0.009316460229456425,0.537494957447052,-0.23562964797019958,-0.18539096415042877,-0.36387863755226135,-0.42992091178894043,-0.4596022069454193,-0.04572024568915367,0.26703107357025146,0.1895855814218521,0.11432605236768723,-0.21266306936740875,0.1799554079771042,-0.15985038876533508,0.0935584008693695,0.3067518174648285,-0.1446504294872284,-0.4078737795352936,-0.2449231743812561,-0.18992729485034943,0.16048969328403473,0.057717688381671906,-0.18504281342029572,-0.022245408967137337,0.10544107854366302,0.13867883384227753,0.02019614726305008,-0.21653525531291962,0.1356782764196396,0.15740236639976501,0.19398221373558044,-0.24112512171268463,0.34262681007385254,0.07314932346343994,0.20721440017223358,-0.17032445967197418,0.011561780236661434,0.2442135214805603,-0.12829428911209106,0.04621713235974312,0.34116262197494507,0.03890328109264374,0.2151740938425064,0.24002991616725922,0.02276385948061943,0.1738031506538391,0.005022839643061161,-0.06269554793834686,0.12662847340106964,0.2828432321548462,-0.11706413328647614,-0.8035988211631775,0.16660243272781372,-0.043142735958099365,0.41331714391708374,-0.21375250816345215,-0.1489211618900299,0.006191801279783249,-0.29391399025917053,0.2928783893585205,0.017495172098279,-0.09894649684429169,-0.0304725244641304,-0.4202001690864563,-0.13078707456588745,0.261487752199173,-0.03358614072203636,-0.25655683875083923,-0.5030199885368347,0.19463352859020233,-9.916460840031505e-05,0.16468754410743713,0.08254584670066833,-0.16598854959011078,-0.06435572355985641,0.2325403392314911,-0.15627098083496094,-0.14472240209579468,0.09056958556175232,-0.4418296813964844,0.5361583828926086,-0.0543069988489151,0.07095345109701157,0.02316177263855934,0.06634503602981567,-0.1333545595407486,-0.12684187293052673,-0.23927153646945953,0.11365605145692825,-0.04605861008167267,-0.29351159930229187,0.011622556485235691,0.11072731763124466,-0.31941428780555725,-0.41023415327072144,0.46939343214035034,-0.32695266604423523,0.08911660313606262,-0.09388945251703262,-0.33987125754356384,-0.4577976167201996,0.21583221852779388,0.14878202974796295,0.4026772975921631],\"y\":[0.17695006728172302,0.10683532804250717,0.029440375044941902,-0.0683780089020729,0.23089492321014404,-0.037579093128442764,0.1121935024857521,-0.14554429054260254,-0.31289762258529663,-0.18294070661067963,0.5765014886856079,-0.15358150005340576,0.33900392055511475,0.05673310533165932,0.702561616897583,0.2733469307422638,-0.2960693836212158,-0.019774140790104866,0.29302409291267395,-0.27150577306747437,0.07827066630125046,-0.30329954624176025,0.07141576707363129,0.08646981418132782,0.0877007246017456,-0.19548113644123077,-0.08107282221317291,-0.7696617841720581,0.13156266510486603,0.011067102663218975,0.7130587100982666,0.16406379640102386,-0.2813810706138611,0.011785618960857391,-0.21468570828437805,-0.1987835168838501,-0.17215417325496674,0.38120511174201965,0.1560152769088745,0.010538294911384583,-0.2615602910518646,0.10498343408107758,-0.4460311233997345,0.06000911816954613,0.171310693025589,1.2522037029266357,0.014268647879362106,0.13396672904491425,-0.023208055645227432,-0.41929054260253906,-0.024722227826714516,0.13029734790325165,-0.016196707263588905,-0.02542930841445923,-0.2530372142791748,0.14724509418010712,-0.24744853377342224,0.1549176275730133,-0.34874317049980164,0.17684273421764374,-0.04880613461136818,-0.003916061948984861,-0.09630376845598221,-0.18072761595249176,-0.19396576285362244,0.3399931788444519,-0.011099250987172127,-0.08634254336357117,0.12902849912643433,0.4829643964767456,-0.17331814765930176,-0.36521241068840027,-0.11785242706537247,0.09080834686756134,-0.23981352150440216,-0.07209880650043488,-0.05863920599222183,0.02522870898246765,-0.3900768458843231,-0.04187179356813431,0.629626989364624,-0.047136079519987106,0.14239059388637543,-0.506726861000061,-0.029947783797979355,0.332552433013916,-0.6918778419494629,0.3179377615451813,0.056731898337602615,-0.5394258499145508,-0.08594577759504318,-0.21950845420360565,0.28345951437950134,0.1133241280913353,-0.15118858218193054,-0.8938007354736328,0.14720959961414337,-0.026844734326004982,-0.16966703534126282,-0.5673355460166931,-0.3644784092903137,-0.2909012734889984,-0.09265631437301636,0.20385503768920898,0.08364788442850113,0.09062696248292923,0.23566238582134247,-0.9689821600914001,-0.25343337655067444,-0.20772868394851685,-0.3702874481678009,-0.26317650079727173,0.15258854627609253,0.00763387605547905,-0.007374277338385582,-0.28253310918807983,-0.40100163221359253,0.11666185408830643,0.11381413787603378,-0.2491496056318283,-0.15455427765846252,0.15983203053474426,0.015944810584187508,-0.011066431179642677,-0.4899393618106842,0.006028776988387108,0.25294020771980286,0.11705098301172256,-0.09013868123292923,-0.27902960777282715,0.04708710312843323,0.39246198534965515,0.1314128190279007,-0.058616556227207184,-0.3803252875804901,0.23048970103263855,0.09393598139286041,-0.09990978240966797,0.061449646949768066,0.7892798781394958,-0.1757231205701828,0.295785129070282,0.20539824664592743,0.030278490856289864,0.014057965017855167,-0.25316497683525085,0.2967204451560974,-0.5354273319244385,-0.07425122708082199,0.18206875026226044,0.1607481986284256,-0.10355985909700394,-0.11060316860675812,0.25521543622016907,0.3523738384246826,-0.01771578937768936,-0.07343660295009613,0.1677292287349701,-0.08290150761604309,0.15554016828536987,-0.28893551230430603,0.02571866288781166,0.11113455891609192,0.09087534993886948,0.18417061865329742,-0.2491426020860672,-0.32851773500442505,-0.008762757293879986,-0.14085663855075836,-0.08096005022525787,0.1299450546503067,-0.07024198025465012,0.3593997359275818,-0.07995098829269409,0.2412402629852295,-0.2842371463775635,-0.2517785131931305,-0.14558500051498413,-0.1663554459810257,-0.3291681110858917,-0.03005952388048172,-0.19828712940216064,0.29827770590782166,-0.18294748663902283,-0.14715798199176788,-0.09929638355970383,-0.10957711189985275,0.014217933639883995,-0.04684014618396759,-0.02811039425432682,-0.06829331815242767,-0.09002456068992615,0.2682947814464569,1.264032244682312,0.1265387386083603,-0.2120281606912613,0.09737513959407806,-0.21312682330608368,-0.03836267441511154,0.23295055329799652,0.22755256295204163,-0.11650344729423523,-0.16176225244998932,-0.016569174826145172,0.14429819583892822,0.3457889258861542,-0.6194115877151489,-0.05963745713233948,0.31504952907562256,1.2258464097976685,-0.20763805508613586,-0.06872142851352692,-0.10151366889476776,-0.16692382097244263,0.279716819524765,0.062121354043483734,0.24477866291999817,0.3831310272216797,0.13126705586910248,-0.1473008543252945,0.18088318407535553,0.324173241853714,0.20317763090133667,0.18895922601222992,-0.041013140231370926,-0.015912825241684914,0.14630110561847687,-0.3729632794857025,0.5072590708732605,0.03847995400428772,-0.1336860954761505,0.387355238199234,-0.005815305281430483,-0.19012689590454102,-0.2429010570049286,0.426593154668808,0.10302119702100754,0.6615463495254517,-0.13913899660110474,-0.1246514618396759,0.012908058241009712,0.2069770097732544,-0.07451113313436508,0.09377412497997284,0.027374017983675003,0.13171032071113586,0.12889648973941803,0.05346652865409851,0.04443630576133728,0.3845682442188263,-0.1922672837972641,-0.08751951903104782,0.03650422394275665,-0.6317922472953796,0.12945139408111572,-0.10092917829751968,-0.13033565878868103,-0.07451651990413666,-0.1128067672252655,0.08586405962705612,0.044401172548532486,0.26034268736839294,0.013926375657320023,0.09850328415632248,-0.08469361066818237,0.2454025149345398,0.35013094544410706,-0.0869809165596962,0.07851933687925339,-0.061637334525585175,0.025096973404288292,0.0594899021089077,-0.14042732119560242,-0.3025033175945282,0.35592779517173767,0.0697130486369133,0.09172074496746063,0.5080148577690125,0.08063282817602158,-0.30577096343040466,0.015013770200312138,-0.4853568375110626,0.014908647164702415,-0.22762000560760498,-0.19687865674495697,0.03950801119208336,-0.256902277469635,0.3825474679470062,-0.2354334443807602,-0.5978569984436035,1.038455843925476,0.19233806431293488,-0.07325872033834457,0.1538306027650833,0.027564620599150658,0.053873587399721146,-0.017737388610839844,0.0729014053940773,-1.2620569467544556,-0.05677375942468643,0.15475405752658844,0.13702841103076935,-0.08569296449422836,-0.0235687755048275,0.23657160997390747,0.00993542280048132,-0.6820355653762817,-0.17917503416538239,0.367748498916626,0.033377859741449356,0.20766256749629974,0.27106690406799316,-0.019643615931272507,0.12545213103294373,-0.06742172688245773,-0.4631296992301941,0.32942312955856323,0.02973552979528904,0.24133780598640442,-0.18375083804130554,0.04673992097377777,0.33840805292129517,-0.05045302212238312,0.11880487203598022,0.0582871288061142,0.12943921983242035,0.00550038879737258,0.207755446434021,-0.04186853766441345,0.5250380039215088,-0.45861443877220154,-0.07692702114582062,0.126418799161911,0.5340708494186401,-0.1627669334411621,-0.6528646349906921,0.09902132302522659,0.25786736607551575,0.04734865576028824,0.17821747064590454,0.1076432317495346,0.318494975566864,0.1588904857635498,0.12331536412239075,0.1928287148475647,-0.12050836533308029,-0.00747455982491374,-0.179208442568779,-0.4195801019668579,-0.04695506766438484,0.08217807114124298,-0.3814014196395874,0.060261473059654236,0.11267005652189255,-0.048879753798246384,0.06973978132009506,-0.030769769102334976,-0.13072305917739868,0.06133824959397316,0.049798138439655304,0.19608645141124725,-0.10091518610715866,-0.5484553575515747,-0.20130407810211182,-0.40500521659851074,-0.1215890496969223,0.1379215568304062,0.2846525311470032,0.046471819281578064,0.0014924027491360903,-0.2846721410751343,0.1377427875995636,-0.15689730644226074,-0.13148899376392365,0.043708834797143936,-0.12061329931020737,0.35481569170951843,0.09085790812969208,0.4083406627178192,-0.45133575797080994,-0.22809021174907684,0.11542857438325882,-0.03235134482383728,0.31192269921302795,-0.1745256632566452,-0.096629798412323,0.09938542544841766,0.1546444594860077,0.02757551334798336,0.0758650004863739,-0.0011067460291087627,-0.0817195475101471,0.05650881677865982,-0.19810016453266144,-0.9400627017021179,-0.14240428805351257,-0.023554302752017975,0.5100694298744202,-0.25764793157577515,-0.15971176326274872,-0.4544677734375,-0.4276290535926819,-0.45391571521759033,0.019119620323181152,0.2800236642360687,0.19149617850780487,0.17897556722164154,-0.20229580998420715,0.18874959647655487,-0.17254002392292023,0.06366398185491562,0.3737195134162903,-0.05953286588191986,-0.4735323190689087,-0.25578024983406067,-0.23359835147857666,0.17801450192928314,0.04948870465159416,-0.17232690751552582,-0.05124405771493912,0.09834712743759155,0.14476047456264496,-0.020353194326162338,-0.23454217612743378,0.1344725787639618,0.1905725747346878,0.2602623403072357,-0.16498616337776184,0.30935877561569214,0.06559879332780838,0.20483562350273132,-0.14276134967803955,-0.007102404721081257,0.16644978523254395,-0.09496821463108063,0.00450885109603405,0.3423512279987335,0.10724853724241257,0.2210140973329544,0.24610507488250732,0.04016644135117531,0.2006441354751587,-0.014056590385735035,-0.11894042044878006,0.15889285504817963,0.2548252046108246,-0.18877269327640533,-0.8148192167282104,0.16878479719161987,-0.029877755790948868,0.4751013517379761,-0.21949492394924164,-0.1347508579492569,-0.05323685705661774,-0.2681935131549835,0.3065352439880371,0.0006107520312070847,-0.04840512573719025,-0.013136490248143673,-0.4848809838294983,-0.17062118649482727,0.31173044443130493,-0.03405553847551346,-0.28533267974853516,-0.4981826841831207,0.15904876589775085,0.04896337166428566,0.16387780010700226,0.057208552956581116,-0.21046285331249237,-0.09268507361412048,0.19260579347610474,-0.13148269057273865,-0.09493836015462875,0.0509372241795063,-0.4558051824569702,0.5488860011100769,-0.09386811405420303,0.06456783413887024,0.049402933567762375,0.07091999799013138,-0.2163357138633728,-0.09233420342206955,-0.18233223259449005,0.12483162432909012,-0.04137404263019562,-0.2991645336151123,-0.034151315689086914,0.11523344367742538,-0.3153139352798462,-0.4162936508655548,0.4043119251728058,-0.24834923446178436,0.06919842958450317,-0.06972741335630417,-0.29795193672180176,-0.4986456632614136,0.13395020365715027,0.06592363864183426,0.3327624201774597],\"type\":\"scatter\"}],                        {\"hovermode\":\"closest\",\"title\":{\"text\":\"Word Embeddings\"},\"template\":{\"data\":{\"bar\":[{\"error_x\":{\"color\":\"#2a3f5f\"},\"error_y\":{\"color\":\"#2a3f5f\"},\"marker\":{\"line\":{\"color\":\"#E5ECF6\",\"width\":0.5},\"pattern\":{\"fillmode\":\"overlay\",\"size\":10,\"solidity\":0.2}},\"type\":\"bar\"}],\"barpolar\":[{\"marker\":{\"line\":{\"color\":\"#E5ECF6\",\"width\":0.5},\"pattern\":{\"fillmode\":\"overlay\",\"size\":10,\"solidity\":0.2}},\"type\":\"barpolar\"}],\"carpet\":[{\"aaxis\":{\"endlinecolor\":\"#2a3f5f\",\"gridcolor\":\"white\",\"linecolor\":\"white\",\"minorgridcolor\":\"white\",\"startlinecolor\":\"#2a3f5f\"},\"baxis\":{\"endlinecolor\":\"#2a3f5f\",\"gridcolor\":\"white\",\"linecolor\":\"white\",\"minorgridcolor\":\"white\",\"startlinecolor\":\"#2a3f5f\"},\"type\":\"carpet\"}],\"choropleth\":[{\"colorbar\":{\"outlinewidth\":0,\"ticks\":\"\"},\"type\":\"choropleth\"}],\"contour\":[{\"colorbar\":{\"outlinewidth\":0,\"ticks\":\"\"},\"colorscale\":[[0.0,\"#0d0887\"],[0.1111111111111111,\"#46039f\"],[0.2222222222222222,\"#7201a8\"],[0.3333333333333333,\"#9c179e\"],[0.4444444444444444,\"#bd3786\"],[0.5555555555555556,\"#d8576b\"],[0.6666666666666666,\"#ed7953\"],[0.7777777777777778,\"#fb9f3a\"],[0.8888888888888888,\"#fdca26\"],[1.0,\"#f0f921\"]],\"type\":\"contour\"}],\"contourcarpet\":[{\"colorbar\":{\"outlinewidth\":0,\"ticks\":\"\"},\"type\":\"contourcarpet\"}],\"heatmap\":[{\"colorbar\":{\"outlinewidth\":0,\"ticks\":\"\"},\"colorscale\":[[0.0,\"#0d0887\"],[0.1111111111111111,\"#46039f\"],[0.2222222222222222,\"#7201a8\"],[0.3333333333333333,\"#9c179e\"],[0.4444444444444444,\"#bd3786\"],[0.5555555555555556,\"#d8576b\"],[0.6666666666666666,\"#ed7953\"],[0.7777777777777778,\"#fb9f3a\"],[0.8888888888888888,\"#fdca26\"],[1.0,\"#f0f921\"]],\"type\":\"heatmap\"}],\"heatmapgl\":[{\"colorbar\":{\"outlinewidth\":0,\"ticks\":\"\"},\"colorscale\":[[0.0,\"#0d0887\"],[0.1111111111111111,\"#46039f\"],[0.2222222222222222,\"#7201a8\"],[0.3333333333333333,\"#9c179e\"],[0.4444444444444444,\"#bd3786\"],[0.5555555555555556,\"#d8576b\"],[0.6666666666666666,\"#ed7953\"],[0.7777777777777778,\"#fb9f3a\"],[0.8888888888888888,\"#fdca26\"],[1.0,\"#f0f921\"]],\"type\":\"heatmapgl\"}],\"histogram\":[{\"marker\":{\"pattern\":{\"fillmode\":\"overlay\",\"size\":10,\"solidity\":0.2}},\"type\":\"histogram\"}],\"histogram2d\":[{\"colorbar\":{\"outlinewidth\":0,\"ticks\":\"\"},\"colorscale\":[[0.0,\"#0d0887\"],[0.1111111111111111,\"#46039f\"],[0.2222222222222222,\"#7201a8\"],[0.3333333333333333,\"#9c179e\"],[0.4444444444444444,\"#bd3786\"],[0.5555555555555556,\"#d8576b\"],[0.6666666666666666,\"#ed7953\"],[0.7777777777777778,\"#fb9f3a\"],[0.8888888888888888,\"#fdca26\"],[1.0,\"#f0f921\"]],\"type\":\"histogram2d\"}],\"histogram2dcontour\":[{\"colorbar\":{\"outlinewidth\":0,\"ticks\":\"\"},\"colorscale\":[[0.0,\"#0d0887\"],[0.1111111111111111,\"#46039f\"],[0.2222222222222222,\"#7201a8\"],[0.3333333333333333,\"#9c179e\"],[0.4444444444444444,\"#bd3786\"],[0.5555555555555556,\"#d8576b\"],[0.6666666666666666,\"#ed7953\"],[0.7777777777777778,\"#fb9f3a\"],[0.8888888888888888,\"#fdca26\"],[1.0,\"#f0f921\"]],\"type\":\"histogram2dcontour\"}],\"mesh3d\":[{\"colorbar\":{\"outlinewidth\":0,\"ticks\":\"\"},\"type\":\"mesh3d\"}],\"parcoords\":[{\"line\":{\"colorbar\":{\"outlinewidth\":0,\"ticks\":\"\"}},\"type\":\"parcoords\"}],\"pie\":[{\"automargin\":true,\"type\":\"pie\"}],\"scatter\":[{\"marker\":{\"colorbar\":{\"outlinewidth\":0,\"ticks\":\"\"}},\"type\":\"scatter\"}],\"scatter3d\":[{\"line\":{\"colorbar\":{\"outlinewidth\":0,\"ticks\":\"\"}},\"marker\":{\"colorbar\":{\"outlinewidth\":0,\"ticks\":\"\"}},\"type\":\"scatter3d\"}],\"scattercarpet\":[{\"marker\":{\"colorbar\":{\"outlinewidth\":0,\"ticks\":\"\"}},\"type\":\"scattercarpet\"}],\"scattergeo\":[{\"marker\":{\"colorbar\":{\"outlinewidth\":0,\"ticks\":\"\"}},\"type\":\"scattergeo\"}],\"scattergl\":[{\"marker\":{\"colorbar\":{\"outlinewidth\":0,\"ticks\":\"\"}},\"type\":\"scattergl\"}],\"scattermapbox\":[{\"marker\":{\"colorbar\":{\"outlinewidth\":0,\"ticks\":\"\"}},\"type\":\"scattermapbox\"}],\"scatterpolar\":[{\"marker\":{\"colorbar\":{\"outlinewidth\":0,\"ticks\":\"\"}},\"type\":\"scatterpolar\"}],\"scatterpolargl\":[{\"marker\":{\"colorbar\":{\"outlinewidth\":0,\"ticks\":\"\"}},\"type\":\"scatterpolargl\"}],\"scatterternary\":[{\"marker\":{\"colorbar\":{\"outlinewidth\":0,\"ticks\":\"\"}},\"type\":\"scatterternary\"}],\"surface\":[{\"colorbar\":{\"outlinewidth\":0,\"ticks\":\"\"},\"colorscale\":[[0.0,\"#0d0887\"],[0.1111111111111111,\"#46039f\"],[0.2222222222222222,\"#7201a8\"],[0.3333333333333333,\"#9c179e\"],[0.4444444444444444,\"#bd3786\"],[0.5555555555555556,\"#d8576b\"],[0.6666666666666666,\"#ed7953\"],[0.7777777777777778,\"#fb9f3a\"],[0.8888888888888888,\"#fdca26\"],[1.0,\"#f0f921\"]],\"type\":\"surface\"}],\"table\":[{\"cells\":{\"fill\":{\"color\":\"#EBF0F8\"},\"line\":{\"color\":\"white\"}},\"header\":{\"fill\":{\"color\":\"#C8D4E3\"},\"line\":{\"color\":\"white\"}},\"type\":\"table\"}]},\"layout\":{\"annotationdefaults\":{\"arrowcolor\":\"#2a3f5f\",\"arrowhead\":0,\"arrowwidth\":1},\"autotypenumbers\":\"strict\",\"coloraxis\":{\"colorbar\":{\"outlinewidth\":0,\"ticks\":\"\"}},\"colorscale\":{\"diverging\":[[0,\"#8e0152\"],[0.1,\"#c51b7d\"],[0.2,\"#de77ae\"],[0.3,\"#f1b6da\"],[0.4,\"#fde0ef\"],[0.5,\"#f7f7f7\"],[0.6,\"#e6f5d0\"],[0.7,\"#b8e186\"],[0.8,\"#7fbc41\"],[0.9,\"#4d9221\"],[1,\"#276419\"]],\"sequential\":[[0.0,\"#0d0887\"],[0.1111111111111111,\"#46039f\"],[0.2222222222222222,\"#7201a8\"],[0.3333333333333333,\"#9c179e\"],[0.4444444444444444,\"#bd3786\"],[0.5555555555555556,\"#d8576b\"],[0.6666666666666666,\"#ed7953\"],[0.7777777777777778,\"#fb9f3a\"],[0.8888888888888888,\"#fdca26\"],[1.0,\"#f0f921\"]],\"sequentialminus\":[[0.0,\"#0d0887\"],[0.1111111111111111,\"#46039f\"],[0.2222222222222222,\"#7201a8\"],[0.3333333333333333,\"#9c179e\"],[0.4444444444444444,\"#bd3786\"],[0.5555555555555556,\"#d8576b\"],[0.6666666666666666,\"#ed7953\"],[0.7777777777777778,\"#fb9f3a\"],[0.8888888888888888,\"#fdca26\"],[1.0,\"#f0f921\"]]},\"colorway\":[\"#636efa\",\"#EF553B\",\"#00cc96\",\"#ab63fa\",\"#FFA15A\",\"#19d3f3\",\"#FF6692\",\"#B6E880\",\"#FF97FF\",\"#FECB52\"],\"font\":{\"color\":\"#2a3f5f\"},\"geo\":{\"bgcolor\":\"white\",\"lakecolor\":\"white\",\"landcolor\":\"#E5ECF6\",\"showlakes\":true,\"showland\":true,\"subunitcolor\":\"white\"},\"hoverlabel\":{\"align\":\"left\"},\"hovermode\":\"closest\",\"mapbox\":{\"style\":\"light\"},\"paper_bgcolor\":\"white\",\"plot_bgcolor\":\"#E5ECF6\",\"polar\":{\"angularaxis\":{\"gridcolor\":\"white\",\"linecolor\":\"white\",\"ticks\":\"\"},\"bgcolor\":\"#E5ECF6\",\"radialaxis\":{\"gridcolor\":\"white\",\"linecolor\":\"white\",\"ticks\":\"\"}},\"scene\":{\"xaxis\":{\"backgroundcolor\":\"#E5ECF6\",\"gridcolor\":\"white\",\"gridwidth\":2,\"linecolor\":\"white\",\"showbackground\":true,\"ticks\":\"\",\"zerolinecolor\":\"white\"},\"yaxis\":{\"backgroundcolor\":\"#E5ECF6\",\"gridcolor\":\"white\",\"gridwidth\":2,\"linecolor\":\"white\",\"showbackground\":true,\"ticks\":\"\",\"zerolinecolor\":\"white\"},\"zaxis\":{\"backgroundcolor\":\"#E5ECF6\",\"gridcolor\":\"white\",\"gridwidth\":2,\"linecolor\":\"white\",\"showbackground\":true,\"ticks\":\"\",\"zerolinecolor\":\"white\"}},\"shapedefaults\":{\"line\":{\"color\":\"#2a3f5f\"}},\"ternary\":{\"aaxis\":{\"gridcolor\":\"white\",\"linecolor\":\"white\",\"ticks\":\"\"},\"baxis\":{\"gridcolor\":\"white\",\"linecolor\":\"white\",\"ticks\":\"\"},\"bgcolor\":\"#E5ECF6\",\"caxis\":{\"gridcolor\":\"white\",\"linecolor\":\"white\",\"ticks\":\"\"}},\"title\":{\"x\":0.05},\"xaxis\":{\"automargin\":true,\"gridcolor\":\"white\",\"linecolor\":\"white\",\"ticks\":\"\",\"title\":{\"standoff\":15},\"zerolinecolor\":\"white\",\"zerolinewidth\":2},\"yaxis\":{\"automargin\":true,\"gridcolor\":\"white\",\"linecolor\":\"white\",\"ticks\":\"\",\"title\":{\"standoff\":15},\"zerolinecolor\":\"white\",\"zerolinewidth\":2}}}},                        {\"responsive\": true}                    ).then(function(){\n",
              "                            \n",
              "var gd = document.getElementById('27f0d731-c0ec-4a2d-8188-f40e01b93b94');\n",
              "var x = new MutationObserver(function (mutations, observer) {{\n",
              "        var display = window.getComputedStyle(gd).display;\n",
              "        if (!display || display === 'none') {{\n",
              "            console.log([gd, 'removed!']);\n",
              "            Plotly.purge(gd);\n",
              "            observer.disconnect();\n",
              "        }}\n",
              "}});\n",
              "\n",
              "// Listen for the removal of the full notebook cells\n",
              "var notebookContainer = gd.closest('#notebook-container');\n",
              "if (notebookContainer) {{\n",
              "    x.observe(notebookContainer, {childList: true});\n",
              "}}\n",
              "\n",
              "// Listen for the clearing of the current output cell\n",
              "var outputEl = gd.closest('.output');\n",
              "if (outputEl) {{\n",
              "    x.observe(outputEl, {childList: true});\n",
              "}}\n",
              "\n",
              "                        })                };                            </script>        </div>\n",
              "</body>\n",
              "</html>"
            ]
          },
          "metadata": {}
        }
      ],
      "source": [
        "def plot_2d_embeddings(embeddings, id_start=1, count=100):\n",
        "  # Get 1st and 2nd embedding dims for the desired tokens.\n",
        "  x1 = embeddings[id_start:id_start+count, 0]\n",
        "  x2 = embeddings[id_start:id_start+count, 1]\n",
        "  \n",
        "  # Get the corresponding words from the reverse index (for labeling).\n",
        "  tokens = [reverse_index[i] for i in range(id_start, id_start+count)]\n",
        "\n",
        "  # Plot with the plotly library.\n",
        "  data = plotly.Scatter(x=x1, y=x2, text=tokens,\n",
        "                        mode='markers', textposition='bottom left',\n",
        "                        hoverinfo='text')\n",
        "  fig = plotly.Figure(data=[data],\n",
        "                      layout=plotly.Layout(title=\"Word Embeddings\",\n",
        "                                           hovermode='closest'))\n",
        "  fig.show()\n",
        "\n",
        "# Very frequent tokens tend to be more syntactic than semantic, so let's plot\n",
        "# some rarer words.    \n",
        "plot_2d_embeddings(embeddings, id_start=500, count=500)"
      ]
    },
    {
      "cell_type": "markdown",
      "metadata": {
        "id": "Z3Mm8MjRcZ20"
      },
      "source": [
        "---\n",
        "### Exercise 4: Interpretting Embeddings (8 points)\n",
        "Notice that the 2-D embeddings fall in a narrow diagonal band.\n",
        "\n",
        "1. Have the learned embeddings separated positive and negative words? What is the most negative word? Does this make sense?\n",
        "2. Give 2 examples of words that seem to have surprising embedding values and try to explain their positions. For example, what's going on with the tokens '7', '8', and '9'?\n",
        "3. The embedding for 'crazy' is very close to (0,0). Explain what this means in terms of the model's output.\n",
        "4. Can you explain what you think the 2 learned embedding dimensions mean, if anything?"
      ]
    },
    {
      "cell_type": "markdown",
      "metadata": {
        "id": "x_qAAvvo2y3t"
      },
      "source": [
        "*Written answers:*\n",
        "\n",
        "1.  The most negative word is \"avoid\". This makes sense as there are not many instances where the word \"avoid\" would be used in a positive review. Normally it is warning other people to avoid watching, paying for, etc. Interestingly, the most positive word is \"highly\". While this makes sense (ie \"highly recommend you see this movie\") it could also be used in a negative way. For instance, \"This movie was highly inappropriate.\" \n",
        "\n",
        "  Therefore I would assess that the learned embeddings does a decent job of separating positive (>0) and negative words (<0), but it is not perfect in its assertion of the sentiment.\n",
        "\n",
        "2. The first example is the word \"christmas\" which is given a slightly negative embedding value. I believe that \"christmas\" may be associated with a negative sentiment by the model because many christmas movies are cheesy and people may not like them because of it. Alternatively, many movies come out around Christmas, and therefore there could just be movies associated with that time of year that are not holiday-related. Lastly it could be that this person received the movie for christmas as it is a big gift-giving holiday.\n",
        "\n",
        "   The second example is the word \"difficult\" which is given a positive embedding value. Perhaps in this case, people were describing the difficulty of getting tickets due to movie popularity, or the difficulty looking away from the screen because of how good the movie was. \n",
        "   \n",
        "      I found these examples to be interesting as those words are normally not associated with/descriptive of the embedding values they received in this model. \n",
        "\n",
        "3. I believe the word 'crazy' is around (0,0) because it could be used as an emphatic description word with both positive and negative sentiment. As we are using the averaging method, the model assigns it a near-neutral sentiment embedding value when it is more likely that there are positive and negative reviews containing the word that end up averaging out to about 0. \n",
        "\n",
        "4. I believe the two learned embedding dimensions cannot be precicely identified or interpreted. Each dimension is a representation of the sentiment of the review on a negative sentiment to positive sentiment axis. Because of the layers, it is able to additionally include word similarity etc into the value. \n"
      ]
    },
    {
      "cell_type": "markdown",
      "metadata": {
        "id": "q37VFnsYedyc"
      },
      "source": [
        "---"
      ]
    },
    {
      "cell_type": "markdown",
      "metadata": {
        "id": "IXCitmUvxfwb"
      },
      "source": [
        "## Scaling Up!\n",
        "Remember how we limited our input sequences to 20 tokens and 1000 vocabulary entries? Let's see how well we can do using more data and bigger models (more parameters)."
      ]
    },
    {
      "cell_type": "markdown",
      "metadata": {
        "id": "OKZDEGS7xzr6"
      },
      "source": [
        "### Exercise 5: Improve Results (8 points)\n",
        "Using pieces of code from above, set up and train a model that improves the validation accuracy to at least 80%. You should include the following elements:\n",
        "\n",
        "1. Truncate and pad input to the desired length.\n",
        "2. Limit vocabulary to the desired size.\n",
        "3. Set up a model using embeddings.\n",
        "4. Add an additional layer or layers (after the embeddings layer and before the output layer).\n",
        "5. Evaluate on the test data. Remember to apply the same pre-processing to the test data. You can use model.evaluate()."
      ]
    },
    {
      "cell_type": "code",
      "execution_count": 26,
      "metadata": {
        "id": "ekbJ4sIq2hID"
      },
      "outputs": [],
      "source": [
        "# YOUR CODE HERE\n",
        "\n",
        "# Pad/truncate input to length of 500\n",
        "X_train_padded = pad_data(X_train, max_length=500)\n",
        "\n",
        "# Limit vocabulary to 3,000 words\n",
        "X_train_reduced = limit_vocab(X_train_padded, max_token_id=3000)\n",
        "\n",
        "# Create model using embeddings\n",
        "def build_embeddings_model(average_over_positions=True,\n",
        "                           vocab_size=3000,\n",
        "                           sequence_length=500,\n",
        "                           embedding_dim=32):\n",
        "  \"\"\"Build a tf.keras model using embeddings.\"\"\"\n",
        "  # Clear session and remove randomness.\n",
        "  tf.keras.backend.clear_session()\n",
        "  tf.random.set_seed(0)\n",
        "\n",
        "  model = tf.keras.Sequential()\n",
        "  model.add(tf.keras.layers.Embedding(\n",
        "      input_dim=vocab_size,\n",
        "      output_dim=embedding_dim,\n",
        "      input_length=sequence_length)\n",
        "  )\n",
        "\n",
        "  if average_over_positions:\n",
        "    # This layer averages over the first dimension of the input by default.\n",
        "    model.add(tf.keras.layers.GlobalAveragePooling1D())\n",
        "  else:\n",
        "    # Concatenate.\n",
        "    model.add(tf.keras.layers.Flatten())\n",
        "  \n",
        "  # Add layers (dense relu and dropout) to model\n",
        "  model.add(tf.keras.layers.Dense(6, activation='relu'))\n",
        "  model.add(tf.keras.layers.Dropout(rate=0.5))\n",
        "  model.add(tf.keras.layers.Dense(\n",
        "      units=1,                     # output dim (for binary classification)\n",
        "      activation='sigmoid'         # apply the sigmoid function!\n",
        "  ))\n",
        "\n",
        "  model.compile(loss='binary_crossentropy', \n",
        "                optimizer='adam',\n",
        "                metrics=['accuracy'])\n",
        "\n",
        "  return model\n"
      ]
    },
    {
      "cell_type": "code",
      "source": [
        "model = build_embeddings_model(average_over_positions=True,\n",
        "                               vocab_size=3000,\n",
        "                               sequence_length=500,\n",
        "                               embedding_dim=32)\n",
        "\n",
        "#model.evaluate()\n",
        "\n",
        "history = model.fit(\n",
        "  x = X_train_reduced,  # our sparse padded training data\n",
        "  y = Y_train,          # corresponding binary labels\n",
        "  epochs=5,             # number of passes through the training data\n",
        "  batch_size=64,        # mini-batch size\n",
        "  validation_split=0.1, # use a fraction of the examples for validation\n",
        "  verbose=1             # display some progress output during training\n",
        "  )\n",
        "\n",
        "history = pd.DataFrame(history.history)\n",
        "plot_history(history)\n",
        "\n",
        "display(model.layers)\n",
        "display(model.summary())\n"
      ],
      "metadata": {
        "colab": {
          "base_uri": "https://localhost:8080/",
          "height": 942
        },
        "id": "HsBORWI6O4Ef",
        "outputId": "32ad60c1-4080-48b2-c7e6-5b53e2d7a9f4"
      },
      "execution_count": 27,
      "outputs": [
        {
          "output_type": "stream",
          "name": "stdout",
          "text": [
            "Epoch 1/5\n",
            "352/352 [==============================] - 5s 10ms/step - loss: 0.6811 - accuracy: 0.5543 - val_loss: 0.6449 - val_accuracy: 0.7984\n",
            "Epoch 2/5\n",
            "352/352 [==============================] - 4s 10ms/step - loss: 0.5820 - accuracy: 0.6997 - val_loss: 0.4868 - val_accuracy: 0.8540\n",
            "Epoch 3/5\n",
            "352/352 [==============================] - 4s 11ms/step - loss: 0.4886 - accuracy: 0.7873 - val_loss: 0.4092 - val_accuracy: 0.8568\n",
            "Epoch 4/5\n",
            "352/352 [==============================] - 3s 10ms/step - loss: 0.4366 - accuracy: 0.8206 - val_loss: 0.3646 - val_accuracy: 0.8744\n",
            "Epoch 5/5\n",
            "352/352 [==============================] - 3s 9ms/step - loss: 0.4080 - accuracy: 0.8353 - val_loss: 0.3383 - val_accuracy: 0.8732\n"
          ]
        },
        {
          "output_type": "display_data",
          "data": {
            "text/plain": [
              "<Figure size 432x288 with 1 Axes>"
            ],
            "image/png": "[encoded data removed]"
          },
          "metadata": {}
        },
        {
          "output_type": "display_data",
          "data": {
            "text/plain": [
              "[<keras.layers.core.embedding.Embedding at 0x7fd6b92a5ca0>,\n",
              " <keras.layers.pooling.global_average_pooling1d.GlobalAveragePooling1D at 0x7fd6b8b8ba00>,\n",
              " <keras.layers.core.dense.Dense at 0x7fd6bebfdd30>,\n",
              " <keras.layers.regularization.dropout.Dropout at 0x7fd6ba9d0a60>,\n",
              " <keras.layers.core.dense.Dense at 0x7fd6ba9d0c40>]"
            ]
          },
          "metadata": {}
        },
        {
          "output_type": "stream",
          "name": "stdout",
          "text": [
            "Model: \"sequential\"\n",
            "_________________________________________________________________\n",
            " Layer (type)                Output Shape              Param #   \n",
            "=================================================================\n",
            " embedding (Embedding)       (None, 500, 32)           96000     \n",
            "                                                                 \n",
            " global_average_pooling1d (G  (None, 32)               0         \n",
            " lobalAveragePooling1D)                                          \n",
            "                                                                 \n",
            " dense (Dense)               (None, 6)                 198       \n",
            "                                                                 \n",
            " dropout (Dropout)           (None, 6)                 0         \n",
            "                                                                 \n",
            " dense_1 (Dense)             (None, 1)                 7         \n",
            "                                                                 \n",
            "=================================================================\n",
            "Total params: 96,205\n",
            "Trainable params: 96,205\n",
            "Non-trainable params: 0\n",
            "_________________________________________________________________\n"
          ]
        },
        {
          "output_type": "display_data",
          "data": {
            "text/plain": [
              "None"
            ]
          },
          "metadata": {}
        }
      ]
    },
    {
      "cell_type": "markdown",
      "metadata": {
        "id": "7EEJI9yC2jOJ"
      },
      "source": [
        "---"
      ]
    }
  ],
  "metadata": {
    "colab": {
      "provenance": [],
      "include_colab_link": true
    },
    "kernelspec": {
      "display_name": "Python 3",
      "language": "python",
      "name": "python3"
    },
    "language_info": {
      "codemirror_mode": {
        "name": "ipython",
        "version": 3
      },
      "file_extension": ".py",
      "mimetype": "text/x-python",
      "name": "python",
      "nbconvert_exporter": "python",
      "pygments_lexer": "ipython3",
      "version": "3.8.3"
    }
  },
  "nbformat": 4,
  "nbformat_minor": 0
}